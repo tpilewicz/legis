{
 "cells": [
  {
   "cell_type": "code",
   "execution_count": 1,
   "metadata": {
    "collapsed": true
   },
   "outputs": [],
   "source": [
    "import pandas as pd"
   ]
  },
  {
   "cell_type": "code",
   "execution_count": 2,
   "metadata": {
    "collapsed": true
   },
   "outputs": [],
   "source": [
    "inpath = './presid_raw/'\n",
    "outpath = './presid_clean/presid_clean.csv'"
   ]
  },
  {
   "cell_type": "code",
   "execution_count": 3,
   "metadata": {
    "collapsed": false
   },
   "outputs": [],
   "source": [
    "#load\n",
    "df = {}\n",
    "years = [1988, 1995, 2002, 2007, 2012, 2017]\n",
    "for year in years:\n",
    "    df[year] = pd.read_csv(inpath + '%d.csv' % year)"
   ]
  },
  {
   "cell_type": "code",
   "execution_count": 4,
   "metadata": {
    "collapsed": false
   },
   "outputs": [],
   "source": [
    "#réorganisation des colonnes\n",
    "for year in years:\n",
    "    df[year] = df[year][['Candidat', 'Departement', 'Parti', 'Score']]"
   ]
  },
  {
   "cell_type": "code",
   "execution_count": 5,
   "metadata": {
    "collapsed": false
   },
   "outputs": [
    {
     "data": {
      "text/html": [
       "<div>\n",
       "<table border=\"1\" class=\"dataframe\">\n",
       "  <thead>\n",
       "    <tr style=\"text-align: right;\">\n",
       "      <th></th>\n",
       "      <th>Candidat</th>\n",
       "      <th>Departement</th>\n",
       "      <th>Parti</th>\n",
       "      <th>Score</th>\n",
       "    </tr>\n",
       "  </thead>\n",
       "  <tbody>\n",
       "    <tr>\n",
       "      <th>0</th>\n",
       "      <td>François Mitterrand</td>\n",
       "      <td>ain</td>\n",
       "      <td>PS</td>\n",
       "      <td>31,41%</td>\n",
       "    </tr>\n",
       "    <tr>\n",
       "      <th>1</th>\n",
       "      <td>Raymond Barre</td>\n",
       "      <td>ain</td>\n",
       "      <td>UDF</td>\n",
       "      <td>21,21%</td>\n",
       "    </tr>\n",
       "    <tr>\n",
       "      <th>2</th>\n",
       "      <td>Jacques Chirac</td>\n",
       "      <td>ain</td>\n",
       "      <td>RPR</td>\n",
       "      <td>19,12%</td>\n",
       "    </tr>\n",
       "    <tr>\n",
       "      <th>3</th>\n",
       "      <td>Jean-Marie Le Pen</td>\n",
       "      <td>ain</td>\n",
       "      <td>FN</td>\n",
       "      <td>16,09%</td>\n",
       "    </tr>\n",
       "    <tr>\n",
       "      <th>4</th>\n",
       "      <td>André Lajoinie</td>\n",
       "      <td>ain</td>\n",
       "      <td>PCF</td>\n",
       "      <td>4,43%</td>\n",
       "    </tr>\n",
       "  </tbody>\n",
       "</table>\n",
       "</div>"
      ],
      "text/plain": [
       "              Candidat Departement Parti   Score\n",
       "0  François Mitterrand         ain    PS  31,41%\n",
       "1        Raymond Barre         ain   UDF  21,21%\n",
       "2       Jacques Chirac         ain   RPR  19,12%\n",
       "3    Jean-Marie Le Pen         ain    FN  16,09%\n",
       "4       André Lajoinie         ain   PCF   4,43%"
      ]
     },
     "execution_count": 5,
     "metadata": {},
     "output_type": "execute_result"
    }
   ],
   "source": [
    "df[1988].head()"
   ]
  },
  {
   "cell_type": "code",
   "execution_count": 6,
   "metadata": {
    "collapsed": true
   },
   "outputs": [],
   "source": [
    "#creation d'une df vide pour concaténer toutes les années\n",
    "df2 = pd.DataFrame(columns=['year', 'Departement', 'Parti', 'Score'])"
   ]
  },
  {
   "cell_type": "code",
   "execution_count": 7,
   "metadata": {
    "collapsed": false
   },
   "outputs": [
    {
     "data": {
      "text/html": [
       "<div>\n",
       "<table border=\"1\" class=\"dataframe\">\n",
       "  <thead>\n",
       "    <tr style=\"text-align: right;\">\n",
       "      <th></th>\n",
       "      <th>year</th>\n",
       "      <th>Departement</th>\n",
       "      <th>Parti</th>\n",
       "      <th>Score</th>\n",
       "    </tr>\n",
       "  </thead>\n",
       "  <tbody>\n",
       "  </tbody>\n",
       "</table>\n",
       "</div>"
      ],
      "text/plain": [
       "Empty DataFrame\n",
       "Columns: [year, Departement, Parti, Score]\n",
       "Index: []"
      ]
     },
     "execution_count": 7,
     "metadata": {},
     "output_type": "execute_result"
    }
   ],
   "source": [
    "df2"
   ]
  },
  {
   "cell_type": "code",
   "execution_count": 8,
   "metadata": {
    "collapsed": false
   },
   "outputs": [],
   "source": [
    "#concatenation des df\n",
    "for year in years:\n",
    "    df2 = df2.append(pd.DataFrame({'year': year,\n",
    "                     'Departement': df[year].Departement,\n",
    "                     'Parti': df[year].Parti,\n",
    "                     'Score': df[year].Score}), ignore_index=True)"
   ]
  },
  {
   "cell_type": "code",
   "execution_count": 9,
   "metadata": {
    "collapsed": false
   },
   "outputs": [
    {
     "data": {
      "text/html": [
       "<div>\n",
       "<table border=\"1\" class=\"dataframe\">\n",
       "  <thead>\n",
       "    <tr style=\"text-align: right;\">\n",
       "      <th></th>\n",
       "      <th>Departement</th>\n",
       "      <th>Parti</th>\n",
       "      <th>Score</th>\n",
       "      <th>year</th>\n",
       "    </tr>\n",
       "  </thead>\n",
       "  <tbody>\n",
       "    <tr>\n",
       "      <th>990</th>\n",
       "      <td>alpes-maritimes</td>\n",
       "      <td>rpr</td>\n",
       "      <td>22,48%</td>\n",
       "      <td>1995.0</td>\n",
       "    </tr>\n",
       "    <tr>\n",
       "      <th>991</th>\n",
       "      <td>alpes-maritimes</td>\n",
       "      <td>Front national</td>\n",
       "      <td>22,48%</td>\n",
       "      <td>1995.0</td>\n",
       "    </tr>\n",
       "    <tr>\n",
       "      <th>992</th>\n",
       "      <td>alpes-maritimes</td>\n",
       "      <td>UDF</td>\n",
       "      <td>20,75%</td>\n",
       "      <td>1995.0</td>\n",
       "    </tr>\n",
       "    <tr>\n",
       "      <th>993</th>\n",
       "      <td>alpes-maritimes</td>\n",
       "      <td>Parti socialiste</td>\n",
       "      <td>16,36%</td>\n",
       "      <td>1995.0</td>\n",
       "    </tr>\n",
       "    <tr>\n",
       "      <th>994</th>\n",
       "      <td>alpes-maritimes</td>\n",
       "      <td>Parti communiste</td>\n",
       "      <td>6,79%</td>\n",
       "      <td>1995.0</td>\n",
       "    </tr>\n",
       "    <tr>\n",
       "      <th>995</th>\n",
       "      <td>alpes-maritimes</td>\n",
       "      <td>\\n\\t\\t\\t\\t\\t\\t\\t\\tMPF\\t\\t\\t\\t\\t\\t\\t\\t</td>\n",
       "      <td>4,51%</td>\n",
       "      <td>1995.0</td>\n",
       "    </tr>\n",
       "    <tr>\n",
       "      <th>996</th>\n",
       "      <td>alpes-maritimes</td>\n",
       "      <td>Lutte ouvrière</td>\n",
       "      <td>3,70%</td>\n",
       "      <td>1995.0</td>\n",
       "    </tr>\n",
       "    <tr>\n",
       "      <th>997</th>\n",
       "      <td>alpes-maritimes</td>\n",
       "      <td>Les Verts</td>\n",
       "      <td>2,72%</td>\n",
       "      <td>1995.0</td>\n",
       "    </tr>\n",
       "    <tr>\n",
       "      <th>998</th>\n",
       "      <td>alpes-maritimes</td>\n",
       "      <td>\\n\\t\\t\\t\\t\\t\\t\\t\\tNouvelle solidarité\\t\\t\\t\\t\\...</td>\n",
       "      <td>0,21%</td>\n",
       "      <td>1995.0</td>\n",
       "    </tr>\n",
       "  </tbody>\n",
       "</table>\n",
       "</div>"
      ],
      "text/plain": [
       "         Departement                                              Parti  \\\n",
       "990  alpes-maritimes                                                rpr   \n",
       "991  alpes-maritimes                                     Front national   \n",
       "992  alpes-maritimes                                                UDF   \n",
       "993  alpes-maritimes                                   Parti socialiste   \n",
       "994  alpes-maritimes                                   Parti communiste   \n",
       "995  alpes-maritimes              \\n\\t\\t\\t\\t\\t\\t\\t\\tMPF\\t\\t\\t\\t\\t\\t\\t\\t   \n",
       "996  alpes-maritimes                                     Lutte ouvrière   \n",
       "997  alpes-maritimes                                          Les Verts   \n",
       "998  alpes-maritimes  \\n\\t\\t\\t\\t\\t\\t\\t\\tNouvelle solidarité\\t\\t\\t\\t\\...   \n",
       "\n",
       "      Score    year  \n",
       "990  22,48%  1995.0  \n",
       "991  22,48%  1995.0  \n",
       "992  20,75%  1995.0  \n",
       "993  16,36%  1995.0  \n",
       "994   6,79%  1995.0  \n",
       "995   4,51%  1995.0  \n",
       "996   3,70%  1995.0  \n",
       "997   2,72%  1995.0  \n",
       "998   0,21%  1995.0  "
      ]
     },
     "execution_count": 9,
     "metadata": {},
     "output_type": "execute_result"
    }
   ],
   "source": [
    "#test de comparaison avec les csv d'origine\n",
    "df2[(df2.year == 1995) & (df2.Departement == \"alpes-maritimes\")]"
   ]
  },
  {
   "cell_type": "code",
   "execution_count": 10,
   "metadata": {
    "collapsed": false
   },
   "outputs": [
    {
     "data": {
      "text/plain": [
       "array(['PS', 'UDF', 'RPR', 'FN', 'PCF', 'Les Verts',\n",
       "       '\\n\\t\\t\\t\\t\\t\\t\\t\\tCommuniste r\\xc3\\xa9novateur\\t\\t\\t\\t\\t\\t\\t\\t',\n",
       "       'LO',\n",
       "       '\\n\\t\\t\\t\\t\\t\\t\\t\\tMouvement pour un parti des travailleurs\\t\\t\\t\\t\\t\\t\\t\\t',\n",
       "       'Parti socialiste', 'Front national', 'rpr', 'Parti communiste',\n",
       "       '\\n\\t\\t\\t\\t\\t\\t\\t\\tMPF\\t\\t\\t\\t\\t\\t\\t\\t', 'Lutte ouvri\\xc3\\xa8re',\n",
       "       '\\n\\t\\t\\t\\t\\t\\t\\t\\tNouvelle solidarit\\xc3\\xa9\\t\\t\\t\\t\\t\\t\\t\\t',\n",
       "       '\\n\\t\\t\\t\\t\\t\\t\\t\\tParti ouvrier europ\\xc3\\xa9en\\t\\t\\t\\t\\t\\t\\t\\t',\n",
       "       'MDC', 'DL', 'Les  Verts', 'CPNT', 'LCR', 'MNR', 'CAP 21', 'PRG',\n",
       "       'FRS', 'PT', 'UMP', 'MPF', 'DIV', 'MoDem', 'Front de gauche',\n",
       "       'Europe \\xc3\\xa9cologie - Les Verts', 'Debout la R\\xc3\\xa9publique',\n",
       "       'NPA', 'Solidarit\\xc3\\xa9 et progr\\xc3\\xa8s', 'UPR',\n",
       "       'R\\xc3\\xa9sistons'], dtype=object)"
      ]
     },
     "execution_count": 10,
     "metadata": {},
     "output_type": "execute_result"
    }
   ],
   "source": [
    "#maintenant on doit cleaner les partis\n",
    "df2.Parti.unique()"
   ]
  },
  {
   "cell_type": "code",
   "execution_count": 11,
   "metadata": {
    "collapsed": true
   },
   "outputs": [],
   "source": [
    "#un peu de clean\n",
    "df2.Parti = df2.Parti.apply(lambda x: x.replace('\\n\\t\\t\\t\\t\\t\\t\\t\\t', ''))"
   ]
  },
  {
   "cell_type": "code",
   "execution_count": 12,
   "metadata": {
    "collapsed": true
   },
   "outputs": [],
   "source": [
    "df2.Parti = df2.Parti.apply(lambda x: x.replace('\\t\\t\\t\\t\\t\\t\\t\\t', ''))"
   ]
  },
  {
   "cell_type": "code",
   "execution_count": 13,
   "metadata": {
    "collapsed": true
   },
   "outputs": [],
   "source": [
    "#dico contenant pour chaque parti le groupe auquel nous l'assignons\n",
    "groups = {'PS': 'G', 'UDF': 'C', 'RPR': 'D', 'FN': 'ED',\n",
    "         'PCF': 'EG', 'Les Verts': 'EG', 'Communiste rénovateur': 'EG', \n",
    "        'LO': 'EG', 'Mouvement pour un parti des travailleurs': 'EG',\n",
    "         'Parti socialiste': 'G', 'Front national': 'ED', 'rpr': 'D',\n",
    "         'Parti communiste': 'EG', 'MPF': 'ED', 'Lutte ouvrière': 'EG',\n",
    "         'Nouvelle solidarité': 'Autre', 'Parti ouvrier européen': 'EG',\n",
    "         'MDC': 'Autre', 'DL': 'D', 'Les  Verts': 'EG', 'CPNT': 'ED',\n",
    "          'LCR': 'EG', 'MNR': 'ED', 'CAP 21': 'C', 'PRG': 'G', 'FRS': 'D',\n",
    "          'PT': 'EG', 'UMP': 'D', 'DIV': 'EG', 'MoDem': 'C',\n",
    "          'Front de gauche': 'EG', 'Europe écologie - Les Verts': 'EG',\n",
    "          'Debout la République': 'ED', 'NPA': 'EG',\n",
    "          'Solidarité et progrès': 'Autre', 'UPR': 'Autre', 'Résistons': 'Autre'}"
   ]
  },
  {
   "cell_type": "code",
   "execution_count": 14,
   "metadata": {
    "collapsed": false
   },
   "outputs": [],
   "source": [
    "#application du dico\n",
    "df2.Parti = df2.Parti.apply(lambda x: groups[x])"
   ]
  },
  {
   "cell_type": "code",
   "execution_count": 15,
   "metadata": {
    "collapsed": false
   },
   "outputs": [
    {
     "data": {
      "text/plain": [
       "array(['G', 'C', 'D', 'ED', 'EG', 'Autre'], dtype=object)"
      ]
     },
     "execution_count": 15,
     "metadata": {},
     "output_type": "execute_result"
    }
   ],
   "source": [
    "df2.Parti.unique()"
   ]
  },
  {
   "cell_type": "code",
   "execution_count": 16,
   "metadata": {
    "collapsed": true
   },
   "outputs": [],
   "source": [
    "#Arranger les scores\n",
    "df2.Score = df2.Score.apply(lambda x: x.replace(',', '.').replace('%', ''))"
   ]
  },
  {
   "cell_type": "code",
   "execution_count": 20,
   "metadata": {
    "collapsed": true
   },
   "outputs": [],
   "source": [
    "df2.Score = df2.Score.apply(float)"
   ]
  },
  {
   "cell_type": "code",
   "execution_count": 21,
   "metadata": {
    "collapsed": false
   },
   "outputs": [
    {
     "data": {
      "text/html": [
       "<div>\n",
       "<table border=\"1\" class=\"dataframe\">\n",
       "  <thead>\n",
       "    <tr style=\"text-align: right;\">\n",
       "      <th></th>\n",
       "      <th>Departement</th>\n",
       "      <th>Parti</th>\n",
       "      <th>Score</th>\n",
       "      <th>year</th>\n",
       "    </tr>\n",
       "  </thead>\n",
       "  <tbody>\n",
       "    <tr>\n",
       "      <th>0</th>\n",
       "      <td>ain</td>\n",
       "      <td>G</td>\n",
       "      <td>31.41</td>\n",
       "      <td>1988.0</td>\n",
       "    </tr>\n",
       "    <tr>\n",
       "      <th>1</th>\n",
       "      <td>ain</td>\n",
       "      <td>C</td>\n",
       "      <td>21.21</td>\n",
       "      <td>1988.0</td>\n",
       "    </tr>\n",
       "    <tr>\n",
       "      <th>2</th>\n",
       "      <td>ain</td>\n",
       "      <td>D</td>\n",
       "      <td>19.12</td>\n",
       "      <td>1988.0</td>\n",
       "    </tr>\n",
       "    <tr>\n",
       "      <th>3</th>\n",
       "      <td>ain</td>\n",
       "      <td>ED</td>\n",
       "      <td>16.09</td>\n",
       "      <td>1988.0</td>\n",
       "    </tr>\n",
       "    <tr>\n",
       "      <th>4</th>\n",
       "      <td>ain</td>\n",
       "      <td>EG</td>\n",
       "      <td>4.43</td>\n",
       "      <td>1988.0</td>\n",
       "    </tr>\n",
       "    <tr>\n",
       "      <th>5</th>\n",
       "      <td>ain</td>\n",
       "      <td>EG</td>\n",
       "      <td>4.05</td>\n",
       "      <td>1988.0</td>\n",
       "    </tr>\n",
       "    <tr>\n",
       "      <th>6</th>\n",
       "      <td>ain</td>\n",
       "      <td>EG</td>\n",
       "      <td>1.82</td>\n",
       "      <td>1988.0</td>\n",
       "    </tr>\n",
       "    <tr>\n",
       "      <th>7</th>\n",
       "      <td>ain</td>\n",
       "      <td>EG</td>\n",
       "      <td>1.51</td>\n",
       "      <td>1988.0</td>\n",
       "    </tr>\n",
       "    <tr>\n",
       "      <th>8</th>\n",
       "      <td>ain</td>\n",
       "      <td>EG</td>\n",
       "      <td>0.37</td>\n",
       "      <td>1988.0</td>\n",
       "    </tr>\n",
       "    <tr>\n",
       "      <th>9</th>\n",
       "      <td>aisne</td>\n",
       "      <td>G</td>\n",
       "      <td>39.55</td>\n",
       "      <td>1988.0</td>\n",
       "    </tr>\n",
       "  </tbody>\n",
       "</table>\n",
       "</div>"
      ],
      "text/plain": [
       "  Departement Parti  Score    year\n",
       "0         ain     G  31.41  1988.0\n",
       "1         ain     C  21.21  1988.0\n",
       "2         ain     D  19.12  1988.0\n",
       "3         ain    ED  16.09  1988.0\n",
       "4         ain    EG   4.43  1988.0\n",
       "5         ain    EG   4.05  1988.0\n",
       "6         ain    EG   1.82  1988.0\n",
       "7         ain    EG   1.51  1988.0\n",
       "8         ain    EG   0.37  1988.0\n",
       "9       aisne     G  39.55  1988.0"
      ]
     },
     "execution_count": 21,
     "metadata": {},
     "output_type": "execute_result"
    }
   ],
   "source": [
    "#OK maintenant on aggrège\n",
    "df2.head(10)"
   ]
  },
  {
   "cell_type": "code",
   "execution_count": 23,
   "metadata": {
    "collapsed": false,
    "scrolled": true
   },
   "outputs": [],
   "source": [
    "#Allez, on change de nom de df pour l'occasion\n",
    "df3 = df2.groupby(['year', 'Departement', 'Parti']).sum()"
   ]
  },
  {
   "cell_type": "code",
   "execution_count": 29,
   "metadata": {
    "collapsed": false
   },
   "outputs": [
    {
     "data": {
      "text/html": [
       "<div>\n",
       "<table border=\"1\" class=\"dataframe\">\n",
       "  <thead>\n",
       "    <tr style=\"text-align: right;\">\n",
       "      <th></th>\n",
       "      <th></th>\n",
       "      <th></th>\n",
       "      <th>Score</th>\n",
       "    </tr>\n",
       "    <tr>\n",
       "      <th>year</th>\n",
       "      <th>Departement</th>\n",
       "      <th>Parti</th>\n",
       "      <th></th>\n",
       "    </tr>\n",
       "  </thead>\n",
       "  <tbody>\n",
       "    <tr>\n",
       "      <th rowspan=\"6\" valign=\"top\">1995.0</th>\n",
       "      <th rowspan=\"6\" valign=\"top\">maine-et-loire</th>\n",
       "      <th>Autre</th>\n",
       "      <td>0.30</td>\n",
       "    </tr>\n",
       "    <tr>\n",
       "      <th>C</th>\n",
       "      <td>25.08</td>\n",
       "    </tr>\n",
       "    <tr>\n",
       "      <th>D</th>\n",
       "      <td>20.03</td>\n",
       "    </tr>\n",
       "    <tr>\n",
       "      <th>ED</th>\n",
       "      <td>19.07</td>\n",
       "    </tr>\n",
       "    <tr>\n",
       "      <th>EG</th>\n",
       "      <td>14.60</td>\n",
       "    </tr>\n",
       "    <tr>\n",
       "      <th>G</th>\n",
       "      <td>20.92</td>\n",
       "    </tr>\n",
       "  </tbody>\n",
       "</table>\n",
       "</div>"
      ],
      "text/plain": [
       "                             Score\n",
       "year   Departement    Parti       \n",
       "1995.0 maine-et-loire Autre   0.30\n",
       "                      C      25.08\n",
       "                      D      20.03\n",
       "                      ED     19.07\n",
       "                      EG     14.60\n",
       "                      G      20.92"
      ]
     },
     "execution_count": 29,
     "metadata": {},
     "output_type": "execute_result"
    }
   ],
   "source": [
    "#Petit test v/s les csv d'origine\n",
    "df3.loc[1995.0,'maine-et-loire',:]"
   ]
  },
  {
   "cell_type": "code",
   "execution_count": 31,
   "metadata": {
    "collapsed": true
   },
   "outputs": [],
   "source": [
    "#save\n",
    "df3.to_csv(outpath)"
   ]
  },
  {
   "cell_type": "code",
   "execution_count": null,
   "metadata": {
    "collapsed": true
   },
   "outputs": [],
   "source": []
  }
 ],
 "metadata": {
  "kernelspec": {
   "display_name": "Python 2",
   "language": "python",
   "name": "python2"
  },
  "language_info": {
   "codemirror_mode": {
    "name": "ipython",
    "version": 2
   },
   "file_extension": ".py",
   "mimetype": "text/x-python",
   "name": "python",
   "nbconvert_exporter": "python",
   "pygments_lexer": "ipython2",
   "version": "2.7.12"
  }
 },
 "nbformat": 4,
 "nbformat_minor": 0
}
