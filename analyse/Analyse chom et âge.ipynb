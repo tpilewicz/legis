{
 "cells": [
  {
   "cell_type": "code",
   "execution_count": 1,
   "metadata": {
    "collapsed": true
   },
   "outputs": [],
   "source": [
    "#imports\n",
    "import pandas as pd\n",
    "import numpy as np\n",
    "\n",
    "from matplotlib import pyplot as plt\n",
    "from matplotlib import patches as mpatches\n",
    "import seaborn as sns\n",
    "%matplotlib inline\n",
    "\n",
    "from __future__ import division"
   ]
  },
  {
   "cell_type": "code",
   "execution_count": 2,
   "metadata": {
    "collapsed": true
   },
   "outputs": [],
   "source": [
    "#Importer la frame\n",
    "\n",
    "path = '../data/merge.csv'\n",
    "df = pd.read_csv(path, index_col=0)\n",
    "\n",
    "#Pour plus de simplicité dans le traitement des codes de département, on rassemble la Corse en un code (20)\n",
    "df.dep = df.dep.apply(lambda x: x.replace('2A', '20').replace('2B', '20'))\n",
    "\n",
    "#ligne aberrante à supprimer\n",
    "df = df[df.l_EG != 198.67]"
   ]
  },
  {
   "cell_type": "code",
   "execution_count": 3,
   "metadata": {
    "collapsed": true
   },
   "outputs": [],
   "source": [
    "#on stocke les variables d'entrée dans X et de sortie dans y. yc indique le groupe ayant le score de législatives le + élevé\n",
    "#p_win stocke le groupe politique ayant eu le score de présidentielle le plus élevé dans le département\n",
    "X = df[df.columns[:-6]]\n",
    "p_win = df[df.columns[-12:-6]].idxmax(axis=1)\n",
    "y = df[df.columns[-6:]]\n",
    "yc = y.idxmax(axis=1)"
   ]
  },
  {
   "cell_type": "code",
   "execution_count": 4,
   "metadata": {
    "collapsed": true
   },
   "outputs": [],
   "source": [
    "#stock dans des cols plutôt non ?\n",
    "df['p_win'] = p_win\n",
    "df['l_win'] = yc"
   ]
  },
  {
   "cell_type": "code",
   "execution_count": 5,
   "metadata": {
    "collapsed": true
   },
   "outputs": [],
   "source": [
    "groups = ['EG', 'G', 'autre', 'C', 'D', 'ED']\n",
    "lgroups = ['l_%s' % g for g in groups]\n",
    "pgroups = ['presid_%s' % g for g in groups]\n",
    "color = ['#ca0020', '#f4a582', '#b2abd2', '#fee8c8', '#92c5de', '#0571b0']"
   ]
  },
  {
   "cell_type": "code",
   "execution_count": 6,
   "metadata": {},
   "outputs": [
    {
     "data": {
      "text/plain": [
       "(4, 16)"
      ]
     },
     "execution_count": 6,
     "metadata": {},
     "output_type": "execute_result"
    },
    {
     "data": {
      "image/png": "[encoded data removed]",
      "text/plain": [
       "<matplotlib.figure.Figure at 0x104f8de10>"
      ]
     },
     "metadata": {},
     "output_type": "display_data"
    }
   ],
   "source": [
    "#boxplots du chômage\n",
    "sns.boxplot(df.chom, df.l_win, order=lgroups, palette=color)\n",
    "plt.xlim(4,16)"
   ]
  },
  {
   "cell_type": "markdown",
   "metadata": {},
   "source": [
    "Pour le coup, la répartition des circonscriptions l_ED se démarque vraiment des autres : le groupe ne \"remporte\" des circonscriptions presque que pour un taux de chômage supérieur à 10% !"
   ]
  },
  {
   "cell_type": "code",
   "execution_count": 7,
   "metadata": {},
   "outputs": [
    {
     "data": {
      "text/plain": [
       "l_D        1530\n",
       "l_C         823\n",
       "l_G         716\n",
       "l_EG        267\n",
       "l_ED         46\n",
       "l_autre      17\n",
       "Name: l_win, dtype: int64"
      ]
     },
     "execution_count": 7,
     "metadata": {},
     "output_type": "execute_result"
    }
   ],
   "source": [
    "#rappelons tout de même le nombre de circonscriptions appartenant à chacun de ses groupes\n",
    "df.l_win.value_counts()"
   ]
  },
  {
   "cell_type": "code",
   "execution_count": 8,
   "metadata": {},
   "outputs": [
    {
     "data": {
      "text/plain": [
       "l_D        0.450132\n",
       "l_C        0.242130\n",
       "l_G        0.210650\n",
       "l_EG       0.078553\n",
       "l_ED       0.013533\n",
       "l_autre    0.005001\n",
       "Name: l_win, dtype: float64"
      ]
     },
     "execution_count": 8,
     "metadata": {},
     "output_type": "execute_result"
    }
   ],
   "source": [
    "#en prop\n",
    "df.l_win.value_counts().apply(lambda x: x / len(df))"
   ]
  },
  {
   "cell_type": "markdown",
   "metadata": {},
   "source": [
    "Seulement 46 circonscriptions \"remportées\" par l'extrême-droite dans notre jeu de données, c'est-à-dire 1,35% des situations. Finalement si on veut tirer des conclusions significatives, on ferait mieux de dessiner une droite score en fonction de chômage."
   ]
  },
  {
   "cell_type": "code",
   "execution_count": 9,
   "metadata": {},
   "outputs": [
    {
     "data": {
      "text/plain": [
       "(0, 30)"
      ]
     },
     "execution_count": 9,
     "metadata": {},
     "output_type": "execute_result"
    },
    {
     "data": {
      "image/png": "[encoded data removed]",
      "text/plain": [
       "<matplotlib.figure.Figure at 0x1161bcc90>"
      ]
     },
     "metadata": {},
     "output_type": "display_data"
    }
   ],
   "source": [
    "#la corrélation semble exister\n",
    "plt.scatter(df.chom, df.l_ED, color=color[5])\n",
    "plt.ylim(0,75)\n",
    "plt.xlim(0,30)\n",
    "\n",
    "#Les taux de chômage extrêmes correspondent aux outre-mer. Peut-être qu'une variable catégorielle pourrait les indiquer\n",
    "#Ainsi des arbres de décision traiteraient peut-être le taux de chômage différemment selon qu'il provient d'outre-mer\n",
    "#ou non ?"
   ]
  },
  {
   "cell_type": "code",
   "execution_count": 10,
   "metadata": {},
   "outputs": [
    {
     "data": {
      "text/plain": [
       "(0, 30)"
      ]
     },
     "execution_count": 10,
     "metadata": {},
     "output_type": "execute_result"
    },
    {
     "data": {
      "image/png": "[encoded data removed]",
      "text/plain": [
       "<matplotlib.figure.Figure at 0x1167b2490>"
      ]
     },
     "metadata": {},
     "output_type": "display_data"
    }
   ],
   "source": [
    "#comparaison avec la droite : corrélation inverse\n",
    "plt.scatter(df.chom, df.l_D, color=color[4])\n",
    "#plt.ylim(0,75)\n",
    "plt.xlim(0,30)"
   ]
  },
  {
   "cell_type": "code",
   "execution_count": null,
   "metadata": {
    "collapsed": true
   },
   "outputs": [],
   "source": []
  }
 ],
 "metadata": {
  "kernelspec": {
   "display_name": "Python [conda root]",
   "language": "python",
   "name": "conda-root-py"
  },
  "language_info": {
   "codemirror_mode": {
    "name": "ipython",
    "version": 2
   },
   "file_extension": ".py",
   "mimetype": "text/x-python",
   "name": "python",
   "nbconvert_exporter": "python",
   "pygments_lexer": "ipython2",
   "version": "2.7.12"
  }
 },
 "nbformat": 4,
 "nbformat_minor": 1
}
