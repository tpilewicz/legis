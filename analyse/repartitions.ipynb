{
 "cells": [
  {
   "cell_type": "code",
   "execution_count": 2,
   "metadata": {
    "collapsed": true
   },
   "outputs": [],
   "source": [
    "#imports\n",
    "import pandas as pd\n",
    "import numpy as np\n",
    "\n",
    "from matplotlib import pyplot as plt\n",
    "from matplotlib import patches as mpatches\n",
    "import seaborn as sns\n",
    "%matplotlib inline\n",
    "\n",
    "from __future__ import division"
   ]
  },
  {
   "cell_type": "code",
   "execution_count": 3,
   "metadata": {
    "collapsed": true
   },
   "outputs": [],
   "source": [
    "#Importer la frame\n",
    "\n",
    "path = '../data/merge.csv'\n",
    "df = pd.read_csv(path, index_col=0)\n",
    "\n",
    "#Pour plus de simplicité dans le traitement des codes de département, on rassemble la Corse en un code (20)\n",
    "df.dep = df.dep.apply(lambda x: x.replace('2A', '20').replace('2B', '20'))\n",
    "\n",
    "#ligne aberrante à supprimer\n",
    "df = df[df.l_EG != 198.67]"
   ]
  },
  {
   "cell_type": "code",
   "execution_count": 4,
   "metadata": {
    "collapsed": true
   },
   "outputs": [],
   "source": [
    "#on stocke les variables d'entrée dans X et de sortie dans y. yc indique le groupe ayant le score de législatives le + élevé\n",
    "#p_win stocke le groupe politique ayant eu le score de présidentielle le plus élevé dans le département\n",
    "X = df[df.columns[:-6]]\n",
    "p_win = df[df.columns[-12:-6]].idxmax(axis=1)\n",
    "y = df[df.columns[-6:]]\n",
    "yc = y.idxmax(axis=1)"
   ]
  },
  {
   "cell_type": "code",
   "execution_count": 5,
   "metadata": {
    "collapsed": true
   },
   "outputs": [],
   "source": [
    "#stock dans des cols plutôt non ?\n",
    "df['p_win'] = p_win\n",
    "df['l_win'] = yc"
   ]
  },
  {
   "cell_type": "code",
   "execution_count": 6,
   "metadata": {
    "collapsed": true
   },
   "outputs": [],
   "source": [
    "groups = ['EG', 'G', 'autre', 'C', 'D', 'ED']\n",
    "lgroups = ['l_%s' % g for g in groups]\n",
    "pgroups = ['presid_%s' % g for g in groups]\n",
    "color = ['#ca0020', '#f4a582', '#b2abd2', '#fee8c8', '#92c5de', '#0571b0']"
   ]
  },
  {
   "cell_type": "code",
   "execution_count": 7,
   "metadata": {},
   "outputs": [
    {
     "data": {
      "text/plain": [
       "(array([ 459.,  750.,  558.,  366.,  446.,  385.,  113.,   64.,  120.,  138.]),\n",
       " array([   72763. ,   327218.6,   581674.2,   836129.8,  1090585.4,\n",
       "         1345041. ,  1599496.6,  1853952.2,  2108407.8,  2362863.4,\n",
       "         2617319. ]),\n",
       " <a list of 10 Patch objects>)"
      ]
     },
     "execution_count": 7,
     "metadata": {},
     "output_type": "execute_result"
    },
    {
     "data": {
      "image/png": "[encoded data removed]",
      "text/plain": [
       "<matplotlib.figure.Figure at 0x104ebd590>"
      ]
     },
     "metadata": {},
     "output_type": "display_data"
    }
   ],
   "source": [
    "plt.hist(df['pop'])"
   ]
  },
  {
   "cell_type": "code",
   "execution_count": 8,
   "metadata": {},
   "outputs": [
    {
     "data": {
      "text/plain": [
       "(array([ 3055.,     0.,   122.,    63.,    39.,     0.,     0.,     0.,\n",
       "            0.,   120.]),\n",
       " array([  2.00000000e+00,   2.13570000e+03,   4.26940000e+03,\n",
       "          6.40310000e+03,   8.53680000e+03,   1.06705000e+04,\n",
       "          1.28042000e+04,   1.49379000e+04,   1.70716000e+04,\n",
       "          1.92053000e+04,   2.13390000e+04]),\n",
       " <a list of 10 Patch objects>)"
      ]
     },
     "execution_count": 8,
     "metadata": {},
     "output_type": "execute_result"
    },
    {
     "data": {
      "image/png": "[encoded data removed]",
      "text/plain": [
       "<matplotlib.figure.Figure at 0x113dfc510>"
      ]
     },
     "metadata": {},
     "output_type": "display_data"
    }
   ],
   "source": [
    "plt.hist(df.dens)"
   ]
  },
  {
   "cell_type": "code",
   "execution_count": 9,
   "metadata": {},
   "outputs": [
    {
     "data": {
      "text/plain": [
       "array(['75'], dtype=object)"
      ]
     },
     "execution_count": 9,
     "metadata": {},
     "output_type": "execute_result"
    }
   ],
   "source": [
    "#La barre de droite correspond à Paris\n",
    "df[df.dens > 15000].dep.unique()"
   ]
  },
  {
   "cell_type": "code",
   "execution_count": 10,
   "metadata": {},
   "outputs": [
    {
     "data": {
      "text/plain": [
       "array(['92', '93', '94'], dtype=object)"
      ]
     },
     "execution_count": 10,
     "metadata": {},
     "output_type": "execute_result"
    }
   ],
   "source": [
    "#Les barres du milieu à sa banlieue\n",
    "df[(4000 < df.dens) & (df.dens < 11000)].dep.unique()"
   ]
  },
  {
   "cell_type": "code",
   "execution_count": 11,
   "metadata": {},
   "outputs": [
    {
     "data": {
      "text/plain": [
       "(array([ 1277.,   850.,   371.,   123.,   182.,    68.,   118.,    10.,\n",
       "           18.,    38.]),\n",
       " array([   2. ,   99.9,  197.8,  295.7,  393.6,  491.5,  589.4,  687.3,\n",
       "         785.2,  883.1,  981. ]),\n",
       " <a list of 10 Patch objects>)"
      ]
     },
     "execution_count": 11,
     "metadata": {},
     "output_type": "execute_result"
    },
    {
     "data": {
      "image/png": "[encoded data removed]",
      "text/plain": [
       "<matplotlib.figure.Figure at 0x11654f490>"
      ]
     },
     "metadata": {},
     "output_type": "display_data"
    }
   ],
   "source": [
    "#zoom sur la première bin\n",
    "plt.hist(df[df.dens < 3000].dens)"
   ]
  },
  {
   "cell_type": "code",
   "execution_count": 12,
   "metadata": {
    "collapsed": true
   },
   "outputs": [],
   "source": [
    "ages = ['age_%d' % i for i in range(1,5)]"
   ]
  },
  {
   "cell_type": "code",
   "execution_count": 13,
   "metadata": {},
   "outputs": [
    {
     "data": {
      "image/png": "[encoded data removed]",
      "text/plain": [
       "<matplotlib.figure.Figure at 0x1166806d0>"
      ]
     },
     "metadata": {},
     "output_type": "display_data"
    }
   ],
   "source": [
    "f, axarr= plt.subplots(2,2, sharex=True, sharey=True)\n",
    "f.set_size_inches(9, 6)\n",
    "\n",
    "for i in range(4):\n",
    "    plt.sca(axarr.flat[i])\n",
    "    plt.hist(df[ages[i]])"
   ]
  },
  {
   "cell_type": "code",
   "execution_count": 14,
   "metadata": {},
   "outputs": [
    {
     "data": {
      "text/plain": [
       "(array([  322.,  1494.,  1112.,   414.,    22.,    16.,     9.,     8.,\n",
       "            0.,     2.]),\n",
       " array([ 18. ,  21.6,  25.2,  28.8,  32.4,  36. ,  39.6,  43.2,  46.8,\n",
       "         50.4,  54. ]),\n",
       " <a list of 10 Patch objects>)"
      ]
     },
     "execution_count": 14,
     "metadata": {},
     "output_type": "execute_result"
    },
    {
     "data": {
      "image/png": "[encoded data removed]",
      "text/plain": [
       "<matplotlib.figure.Figure at 0x116699e10>"
      ]
     },
     "metadata": {},
     "output_type": "display_data"
    }
   ],
   "source": [
    "#La distribution la plus étendue semble être age_1\n",
    "plt.hist(df.age_1)"
   ]
  },
  {
   "cell_type": "code",
   "execution_count": 15,
   "metadata": {},
   "outputs": [
    {
     "data": {
      "text/html": [
       "<div>\n",
       "<table border=\"1\" class=\"dataframe\">\n",
       "  <thead>\n",
       "    <tr style=\"text-align: right;\">\n",
       "      <th></th>\n",
       "      <th>dep</th>\n",
       "      <th>circ</th>\n",
       "      <th>year</th>\n",
       "      <th>pop</th>\n",
       "      <th>dens</th>\n",
       "      <th>age_1</th>\n",
       "      <th>age_2</th>\n",
       "      <th>age_3</th>\n",
       "      <th>age_4</th>\n",
       "      <th>etud</th>\n",
       "      <th>...</th>\n",
       "      <th>presid_G</th>\n",
       "      <th>presid_autre</th>\n",
       "      <th>l_C</th>\n",
       "      <th>l_D</th>\n",
       "      <th>l_ED</th>\n",
       "      <th>l_EG</th>\n",
       "      <th>l_G</th>\n",
       "      <th>l_autre</th>\n",
       "      <th>p_win</th>\n",
       "      <th>l_win</th>\n",
       "    </tr>\n",
       "  </thead>\n",
       "  <tbody>\n",
       "    <tr>\n",
       "      <th>3398</th>\n",
       "      <td>976</td>\n",
       "      <td>1.0</td>\n",
       "      <td>2017.0</td>\n",
       "      <td>235132.0</td>\n",
       "      <td>625.0</td>\n",
       "      <td>54.0</td>\n",
       "      <td>27.0</td>\n",
       "      <td>14.0</td>\n",
       "      <td>4.0</td>\n",
       "      <td>0.67</td>\n",
       "      <td>...</td>\n",
       "      <td>4.33</td>\n",
       "      <td>2.27</td>\n",
       "      <td>0.00</td>\n",
       "      <td>30.19</td>\n",
       "      <td>3.04</td>\n",
       "      <td>1.96</td>\n",
       "      <td>50.11</td>\n",
       "      <td>14.68</td>\n",
       "      <td>presid_D</td>\n",
       "      <td>l_G</td>\n",
       "    </tr>\n",
       "    <tr>\n",
       "      <th>3399</th>\n",
       "      <td>976</td>\n",
       "      <td>2.0</td>\n",
       "      <td>2017.0</td>\n",
       "      <td>235132.0</td>\n",
       "      <td>625.0</td>\n",
       "      <td>54.0</td>\n",
       "      <td>27.0</td>\n",
       "      <td>14.0</td>\n",
       "      <td>4.0</td>\n",
       "      <td>0.67</td>\n",
       "      <td>...</td>\n",
       "      <td>4.33</td>\n",
       "      <td>2.27</td>\n",
       "      <td>12.03</td>\n",
       "      <td>42.05</td>\n",
       "      <td>1.09</td>\n",
       "      <td>2.14</td>\n",
       "      <td>13.85</td>\n",
       "      <td>28.84</td>\n",
       "      <td>presid_D</td>\n",
       "      <td>l_D</td>\n",
       "    </tr>\n",
       "  </tbody>\n",
       "</table>\n",
       "<p>2 rows × 26 columns</p>\n",
       "</div>"
      ],
      "text/plain": [
       "      dep  circ    year       pop   dens  age_1  age_2  age_3  age_4  etud  \\\n",
       "3398  976   1.0  2017.0  235132.0  625.0   54.0   27.0   14.0    4.0  0.67   \n",
       "3399  976   2.0  2017.0  235132.0  625.0   54.0   27.0   14.0    4.0  0.67   \n",
       "\n",
       "      ...    presid_G  presid_autre    l_C    l_D  l_ED  l_EG    l_G  l_autre  \\\n",
       "3398  ...        4.33          2.27   0.00  30.19  3.04  1.96  50.11    14.68   \n",
       "3399  ...        4.33          2.27  12.03  42.05  1.09  2.14  13.85    28.84   \n",
       "\n",
       "         p_win  l_win  \n",
       "3398  presid_D    l_G  \n",
       "3399  presid_D    l_D  \n",
       "\n",
       "[2 rows x 26 columns]"
      ]
     },
     "execution_count": 15,
     "metadata": {},
     "output_type": "execute_result"
    }
   ],
   "source": [
    "#+ de la moitié de la population en dessous de 20 ans à Mayotte cette année\n",
    "df[(50.4 <= df.age_1) & (df.age_1 <= 54)]"
   ]
  },
  {
   "cell_type": "code",
   "execution_count": 16,
   "metadata": {},
   "outputs": [
    {
     "data": {
      "text/plain": [
       "(array([  485.,  1420.,   997.,   336.,    59.,     0.,    12.,    38.,\n",
       "           23.,    29.]),\n",
       " array([  4.38 ,   6.837,   9.294,  11.751,  14.208,  16.665,  19.122,\n",
       "         21.579,  24.036,  26.493,  28.95 ]),\n",
       " <a list of 10 Patch objects>)"
      ]
     },
     "execution_count": 16,
     "metadata": {},
     "output_type": "execute_result"
    },
    {
     "data": {
      "image/png": "[encoded data removed]",
      "text/plain": [
       "<matplotlib.figure.Figure at 0x116680c50>"
      ]
     },
     "metadata": {},
     "output_type": "display_data"
    }
   ],
   "source": [
    "plt.hist(df.chom)"
   ]
  },
  {
   "cell_type": "code",
   "execution_count": 17,
   "metadata": {},
   "outputs": [
    {
     "data": {
      "text/plain": [
       "array(['971', '973', '974', '972', '976'], dtype=object)"
      ]
     },
     "execution_count": 17,
     "metadata": {},
     "output_type": "execute_result"
    }
   ],
   "source": [
    "#Les départements d'outre-mer présentent un chômage particulier\n",
    "df[df.chom > 19].dep.unique()"
   ]
  },
  {
   "cell_type": "code",
   "execution_count": 19,
   "metadata": {},
   "outputs": [
    {
     "data": {
      "text/plain": [
       "(array([   16.,    55.,   147.,   392.,  1348.,  1007.,   402.,    24.,\n",
       "            6.,     2.]),\n",
       " array([ 45.9 ,  46.45,  47.  ,  47.55,  48.1 ,  48.65,  49.2 ,  49.75,\n",
       "         50.3 ,  50.85,  51.4 ]),\n",
       " <a list of 10 Patch objects>)"
      ]
     },
     "execution_count": 19,
     "metadata": {},
     "output_type": "execute_result"
    },
    {
     "data": {
      "image/png": "[encoded data removed]",
      "text/plain": [
       "<matplotlib.figure.Figure at 0x117b1bed0>"
      ]
     },
     "metadata": {},
     "output_type": "display_data"
    }
   ],
   "source": [
    "plt.hist(df.hf)"
   ]
  },
  {
   "cell_type": "code",
   "execution_count": 22,
   "metadata": {},
   "outputs": [
    {
     "data": {
      "image/png": "[encoded data removed]",
      "text/plain": [
       "<matplotlib.figure.Figure at 0x118dee1d0>"
      ]
     },
     "metadata": {},
     "output_type": "display_data"
    }
   ],
   "source": [
    "f, axarr = plt.subplots(2,3, sharex=True, sharey=True)\n",
    "f.set_size_inches(12,8)\n",
    "\n",
    "for i in range(6):\n",
    "    plt.sca(axarr.flat[i])\n",
    "    plt.hist(df[lgroups[i]])\n",
    "    plt.title(lgroups[i])"
   ]
  },
  {
   "cell_type": "code",
   "execution_count": 23,
   "metadata": {},
   "outputs": [
    {
     "data": {
      "image/png": "[encoded data removed]",
      "text/plain": [
       "<matplotlib.figure.Figure at 0x116d74b10>"
      ]
     },
     "metadata": {},
     "output_type": "display_data"
    }
   ],
   "source": [
    "f, axarr = plt.subplots(2,3, sharex=True, sharey=True)\n",
    "f.set_size_inches(12,8)\n",
    "\n",
    "for i in range(6):\n",
    "    plt.sca(axarr.flat[i])\n",
    "    plt.hist(df[pgroups[i]])\n",
    "    plt.title(pgroups[i])"
   ]
  },
  {
   "cell_type": "code",
   "execution_count": null,
   "metadata": {
    "collapsed": true
   },
   "outputs": [],
   "source": []
  }
 ],
 "metadata": {
  "kernelspec": {
   "display_name": "Python [conda root]",
   "language": "python",
   "name": "conda-root-py"
  },
  "language_info": {
   "codemirror_mode": {
    "name": "ipython",
    "version": 2
   },
   "file_extension": ".py",
   "mimetype": "text/x-python",
   "name": "python",
   "nbconvert_exporter": "python",
   "pygments_lexer": "ipython2",
   "version": "2.7.12"
  }
 },
 "nbformat": 4,
 "nbformat_minor": 1
}
