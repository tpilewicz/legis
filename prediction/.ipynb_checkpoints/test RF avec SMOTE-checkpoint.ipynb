{
 "cells": [
  {
   "cell_type": "code",
   "execution_count": 1,
   "metadata": {
    "collapsed": true
   },
   "outputs": [],
   "source": [
    "import pandas as pd\n",
    "import numpy as np\n",
    "\n",
    "from matplotlib import pyplot as plt\n",
    "import seaborn as sns\n",
    "%matplotlib inline\n",
    "\n",
    "from sklearn.ensemble import RandomForestClassifier\n",
    "#from sklearn.linear_model import LogisticRegression\n",
    "#from sklearn.model_selection import cross_val_score\n",
    "\n",
    "#import matplotlib as mpl\n",
    "\n",
    "from imblearn.over_sampling import SMOTE\n",
    "\n",
    "from __future__ import division\n",
    "from collections import Counter"
   ]
  },
  {
   "cell_type": "code",
   "execution_count": 2,
   "metadata": {
    "collapsed": true
   },
   "outputs": [],
   "source": [
    "#Pour la font\n",
    "\n",
    "#mpl.rcParams['font.size'] = 40.0"
   ]
  },
  {
   "cell_type": "code",
   "execution_count": 3,
   "metadata": {
    "collapsed": true
   },
   "outputs": [],
   "source": [
    "#Importer la frame\n",
    "\n",
    "path = '../data/merge.csv'\n",
    "df = pd.read_csv(path, index_col=0)"
   ]
  },
  {
   "cell_type": "code",
   "execution_count": 4,
   "metadata": {
    "collapsed": true
   },
   "outputs": [],
   "source": [
    "#Traiter la frame : Corse unifiee pour plus de simplicité\n",
    "df.dep = df.dep.apply(lambda x: x.replace('2A', '20').replace('2B', '20'))\n",
    "\n",
    "#ligne à supprimer\n",
    "df = df[df.l_EG != 198.67]"
   ]
  },
  {
   "cell_type": "code",
   "execution_count": 5,
   "metadata": {
    "collapsed": true
   },
   "outputs": [],
   "source": [
    "groups = ['EG', 'G', 'autre', 'C', 'D', 'ED']\n",
    "lgroups = ['l_%s' % group for group in groups]\n",
    "pgroups = ['presid_%s' % group for group in groups]"
   ]
  },
  {
   "cell_type": "code",
   "execution_count": 6,
   "metadata": {
    "collapsed": true
   },
   "outputs": [],
   "source": [
    "#stocker le groupe \"gagnant\" des législatives\n",
    "df['l_win'] = df[lgroups].idxmax(axis=1)"
   ]
  },
  {
   "cell_type": "markdown",
   "metadata": {},
   "source": [
    "<h2>Variables de synthèse</h2>\n",
    "Pour indiquer Paris, sa banlieue, et l'outre-mer. On ne peut pas garder toutes les valeurs de la variable dep donc on se contentera de quelques variables binaires pour indiquer ces 3 situations particulières."
   ]
  },
  {
   "cell_type": "code",
   "execution_count": 7,
   "metadata": {
    "collapsed": true
   },
   "outputs": [],
   "source": [
    "df['surb'] = df.dep.apply(lambda x: 1 if x in [str(i) for i in range(92, 95)] else 0)\n",
    "df['paris'] = df.dep.apply(lambda x: 1 if x == '75' else 0)\n",
    "\n",
    "df['OM'] = df.dep.apply(lambda x: 1 if x in [str(i) for i in range(971, 977)] else 0)"
   ]
  },
  {
   "cell_type": "code",
   "execution_count": 8,
   "metadata": {},
   "outputs": [
    {
     "data": {
      "text/html": [
       "<div>\n",
       "<table border=\"1\" class=\"dataframe\">\n",
       "  <thead>\n",
       "    <tr style=\"text-align: right;\">\n",
       "      <th></th>\n",
       "      <th>dep</th>\n",
       "      <th>circ</th>\n",
       "      <th>year</th>\n",
       "      <th>pop</th>\n",
       "      <th>dens</th>\n",
       "      <th>age_1</th>\n",
       "      <th>age_2</th>\n",
       "      <th>age_3</th>\n",
       "      <th>age_4</th>\n",
       "      <th>etud</th>\n",
       "      <th>...</th>\n",
       "      <th>l_C</th>\n",
       "      <th>l_D</th>\n",
       "      <th>l_ED</th>\n",
       "      <th>l_EG</th>\n",
       "      <th>l_G</th>\n",
       "      <th>l_autre</th>\n",
       "      <th>l_win</th>\n",
       "      <th>surb</th>\n",
       "      <th>paris</th>\n",
       "      <th>OM</th>\n",
       "    </tr>\n",
       "  </thead>\n",
       "  <tbody>\n",
       "    <tr>\n",
       "      <th>0</th>\n",
       "      <td>1</td>\n",
       "      <td>1.0</td>\n",
       "      <td>1993.0</td>\n",
       "      <td>488244.0</td>\n",
       "      <td>85.0</td>\n",
       "      <td>29.0</td>\n",
       "      <td>30.0</td>\n",
       "      <td>24.0</td>\n",
       "      <td>18.0</td>\n",
       "      <td>0.64</td>\n",
       "      <td>...</td>\n",
       "      <td>0.00</td>\n",
       "      <td>46.47</td>\n",
       "      <td>10.28</td>\n",
       "      <td>19.15</td>\n",
       "      <td>24.11</td>\n",
       "      <td>0.0</td>\n",
       "      <td>l_D</td>\n",
       "      <td>0</td>\n",
       "      <td>0</td>\n",
       "      <td>0</td>\n",
       "    </tr>\n",
       "    <tr>\n",
       "      <th>1</th>\n",
       "      <td>1</td>\n",
       "      <td>2.0</td>\n",
       "      <td>1993.0</td>\n",
       "      <td>488244.0</td>\n",
       "      <td>85.0</td>\n",
       "      <td>29.0</td>\n",
       "      <td>30.0</td>\n",
       "      <td>24.0</td>\n",
       "      <td>18.0</td>\n",
       "      <td>0.64</td>\n",
       "      <td>...</td>\n",
       "      <td>0.00</td>\n",
       "      <td>46.53</td>\n",
       "      <td>18.79</td>\n",
       "      <td>20.73</td>\n",
       "      <td>13.95</td>\n",
       "      <td>0.0</td>\n",
       "      <td>l_D</td>\n",
       "      <td>0</td>\n",
       "      <td>0</td>\n",
       "      <td>0</td>\n",
       "    </tr>\n",
       "    <tr>\n",
       "      <th>2</th>\n",
       "      <td>1</td>\n",
       "      <td>3.0</td>\n",
       "      <td>1993.0</td>\n",
       "      <td>488244.0</td>\n",
       "      <td>85.0</td>\n",
       "      <td>29.0</td>\n",
       "      <td>30.0</td>\n",
       "      <td>24.0</td>\n",
       "      <td>18.0</td>\n",
       "      <td>0.64</td>\n",
       "      <td>...</td>\n",
       "      <td>51.59</td>\n",
       "      <td>0.00</td>\n",
       "      <td>12.41</td>\n",
       "      <td>18.83</td>\n",
       "      <td>17.18</td>\n",
       "      <td>0.0</td>\n",
       "      <td>l_C</td>\n",
       "      <td>0</td>\n",
       "      <td>0</td>\n",
       "      <td>0</td>\n",
       "    </tr>\n",
       "    <tr>\n",
       "      <th>3</th>\n",
       "      <td>1</td>\n",
       "      <td>4.0</td>\n",
       "      <td>1993.0</td>\n",
       "      <td>488244.0</td>\n",
       "      <td>85.0</td>\n",
       "      <td>29.0</td>\n",
       "      <td>30.0</td>\n",
       "      <td>24.0</td>\n",
       "      <td>18.0</td>\n",
       "      <td>0.64</td>\n",
       "      <td>...</td>\n",
       "      <td>48.86</td>\n",
       "      <td>0.00</td>\n",
       "      <td>17.46</td>\n",
       "      <td>17.72</td>\n",
       "      <td>15.95</td>\n",
       "      <td>0.0</td>\n",
       "      <td>l_C</td>\n",
       "      <td>0</td>\n",
       "      <td>0</td>\n",
       "      <td>0</td>\n",
       "    </tr>\n",
       "    <tr>\n",
       "      <th>4</th>\n",
       "      <td>2</td>\n",
       "      <td>1.0</td>\n",
       "      <td>1993.0</td>\n",
       "      <td>538219.0</td>\n",
       "      <td>73.0</td>\n",
       "      <td>29.0</td>\n",
       "      <td>29.0</td>\n",
       "      <td>22.0</td>\n",
       "      <td>19.0</td>\n",
       "      <td>0.93</td>\n",
       "      <td>...</td>\n",
       "      <td>0.00</td>\n",
       "      <td>42.65</td>\n",
       "      <td>12.33</td>\n",
       "      <td>21.31</td>\n",
       "      <td>23.70</td>\n",
       "      <td>0.0</td>\n",
       "      <td>l_D</td>\n",
       "      <td>0</td>\n",
       "      <td>0</td>\n",
       "      <td>0</td>\n",
       "    </tr>\n",
       "  </tbody>\n",
       "</table>\n",
       "<p>5 rows × 28 columns</p>\n",
       "</div>"
      ],
      "text/plain": [
       "  dep  circ    year       pop  dens  age_1  age_2  age_3  age_4  etud ...  \\\n",
       "0   1   1.0  1993.0  488244.0  85.0   29.0   30.0   24.0   18.0  0.64 ...   \n",
       "1   1   2.0  1993.0  488244.0  85.0   29.0   30.0   24.0   18.0  0.64 ...   \n",
       "2   1   3.0  1993.0  488244.0  85.0   29.0   30.0   24.0   18.0  0.64 ...   \n",
       "3   1   4.0  1993.0  488244.0  85.0   29.0   30.0   24.0   18.0  0.64 ...   \n",
       "4   2   1.0  1993.0  538219.0  73.0   29.0   29.0   22.0   19.0  0.93 ...   \n",
       "\n",
       "     l_C    l_D   l_ED   l_EG    l_G  l_autre  l_win  surb  paris  OM  \n",
       "0   0.00  46.47  10.28  19.15  24.11      0.0    l_D     0      0   0  \n",
       "1   0.00  46.53  18.79  20.73  13.95      0.0    l_D     0      0   0  \n",
       "2  51.59   0.00  12.41  18.83  17.18      0.0    l_C     0      0   0  \n",
       "3  48.86   0.00  17.46  17.72  15.95      0.0    l_C     0      0   0  \n",
       "4   0.00  42.65  12.33  21.31  23.70      0.0    l_D     0      0   0  \n",
       "\n",
       "[5 rows x 28 columns]"
      ]
     },
     "execution_count": 8,
     "metadata": {},
     "output_type": "execute_result"
    }
   ],
   "source": [
    "df.head()"
   ]
  },
  {
   "cell_type": "code",
   "execution_count": 9,
   "metadata": {},
   "outputs": [
    {
     "data": {
      "text/plain": [
       "Index([u'dep', u'circ', u'year', u'pop', u'dens', u'age_1', u'age_2', u'age_3',\n",
       "       u'age_4', u'etud', u'hf', u'chom', u'presid_C', u'presid_D',\n",
       "       u'presid_ED', u'presid_EG', u'presid_G', u'presid_autre', u'l_C',\n",
       "       u'l_D', u'l_ED', u'l_EG', u'l_G', u'l_autre', u'l_win', u'surb',\n",
       "       u'paris', u'OM'],\n",
       "      dtype='object')"
      ]
     },
     "execution_count": 9,
     "metadata": {},
     "output_type": "execute_result"
    }
   ],
   "source": [
    "df.columns"
   ]
  },
  {
   "cell_type": "markdown",
   "metadata": {},
   "source": [
    "<h2>SMOTE</h2>\n",
    "Pour rééquilibrer les classes dans le jeu d'entraînement, on synthétise des lignes de classe  EG, C et ED avec la lib imblearn. On rééquilibre de sorte qu'aucune classe n'ait son effectif en dessous de 20% de celui de la classe dominante (D). Càd que chaque classe doit atteindre au moin 20% de 993 en effectifs = 199\n",
    "\n",
    "Note : on exclue les années 93 et 97, pour lesquelles les législatives ne surviennent pas directement après les présidentielles"
   ]
  },
  {
   "cell_type": "code",
   "execution_count": 10,
   "metadata": {},
   "outputs": [
    {
     "data": {
      "text/plain": [
       "l_D     993\n",
       "l_G     520\n",
       "l_EG    112\n",
       "l_C      63\n",
       "l_ED     11\n",
       "Name: l_win, dtype: int64"
      ]
     },
     "execution_count": 10,
     "metadata": {},
     "output_type": "execute_result"
    }
   ],
   "source": [
    "#Effectif de chaque classe dans le jeu d'entraînement sans avoir rééquilibré\n",
    "df[(2000 < df.year) & (df.year < 2017)].l_win.value_counts()"
   ]
  },
  {
   "cell_type": "markdown",
   "metadata": {},
   "source": [
    "<h2>Fonction de prédiction</h2>"
   ]
  },
  {
   "cell_type": "code",
   "execution_count": 49,
   "metadata": {},
   "outputs": [],
   "source": [
    "RF = RandomForestClassifier(n_estimators=100)\n",
    "\n",
    "#quelles que soient les colonnes choisies comme input, l'output d'entrainement sera toujours :\n",
    "y0 = df[(2000 < df.year) & (df.year < 2017)]['l_win']\n",
    "\n",
    "#quelles que soient les colonnes choisies comme input, ce qu'on cherche a predire pour 2017 :\n",
    "real = df[df.year == 2017].l_win\n",
    "\n",
    "def predict(xcols, sm):\n",
    "    '''La fonction produit 10 predictions a partir du random forest avec 100 arbres. Les predictions etant\n",
    "    instables, on calculera ensuite la moyenne du nombre de circonscriptions \"remportees\" par chaque groupe.\n",
    "    \n",
    "    L\\'argument xcols donne les colonnes a utiliser comme variable d\\'entrainement.\n",
    "    L\\'argument sm donne le SMOTE a utiliser, i.e le nombre de lignes a generer pour chaque classe.'''\n",
    "    \n",
    "    #stockage de l'input d'entraînement\n",
    "    X0 = df[(2000 < df.year) & (df.year < 2017)][xcols]\n",
    "    \n",
    "    #synthèse des lignes de rééquilibrage. On utilisera donc Xres et yres en réalité pour l'entraînement\n",
    "    Xres, yres = sm.fit_sample(X0, y0)\n",
    "    \n",
    "    #input de test pour prédire les législatives de 2017\n",
    "    test = df[df.year == 2017][xcols]\n",
    "    \n",
    "    #results stocke les predictions brutes\n",
    "    results = []\n",
    "\n",
    "    #10 prédictions\n",
    "    for i in range(10):\n",
    "        RF.fit(Xres, yres)\n",
    "        p_rf = RF.predict(test)\n",
    "        results.append(p_rf)\n",
    "    \n",
    "    #precision stocke le nombre de circonscriptions prédites \"justement\" pour chaque prédiction\n",
    "    precision = [Counter(real.values == r) for r in results]\n",
    "    \n",
    "    #count_results stocke le nombre de circonscriptions \"remportees\" par chaque groupe politique dans chaque prediction\n",
    "    count_results = [Counter(r) for r in results]\n",
    "    \n",
    "    #pmeans calcule une moyenne\n",
    "    pmeans = {False: np.mean([p[False] for p in precision]),\n",
    "             True: np.mean([p[True] for p in precision])}\n",
    "    \n",
    "    #cmeans calcule une moyenne par groupe des count_results\n",
    "    cmeans = {lgroup: np.mean([c[lgroup] for c in count_results]) for lgroup in lgroups}\n",
    "    \n",
    "    return results, precision, count_results, pmeans, cmeans"
   ]
  },
  {
   "cell_type": "markdown",
   "metadata": {},
   "source": [
    "<h1> Essai 1 :</h1>\n",
    "On garde uniquement les variables de synthèse et les scores de présidentielle comme variables d'entrée."
   ]
  },
  {
   "cell_type": "code",
   "execution_count": 50,
   "metadata": {
    "collapsed": true
   },
   "outputs": [],
   "source": [
    "xcols = ['surb', 'paris', 'OM'] + pgroups\n",
    "\n",
    "#On instancie le SMOTE, en précisant le nombre de lignes qu'on veut dans les classes dont on synthétisera des lignes :\n",
    "sm = SMOTE(ratio={'l_C': 199,\n",
    "                 'l_EG': 199,\n",
    "                 'l_ED': 199})\n",
    "\n",
    "r, p, cr, pm, cm = predict(xcols, sm)"
   ]
  },
  {
   "cell_type": "code",
   "execution_count": 53,
   "metadata": {},
   "outputs": [
    {
     "data": {
      "text/plain": [
       "l_C        409\n",
       "l_D         62\n",
       "l_EG        27\n",
       "l_ED        22\n",
       "l_G         21\n",
       "l_autre     17\n",
       "Name: l_win, dtype: int64"
      ]
     },
     "execution_count": 53,
     "metadata": {},
     "output_type": "execute_result"
    }
   ],
   "source": [
    "#Les effectifs à prédire\n",
    "real.value_counts()"
   ]
  },
  {
   "cell_type": "code",
   "execution_count": 54,
   "metadata": {},
   "outputs": [
    {
     "data": {
      "text/plain": [
       "{'l_C': 40.5,\n",
       " 'l_D': 512.89999999999998,\n",
       " 'l_ED': 3.5,\n",
       " 'l_EG': 1.1000000000000001,\n",
       " 'l_G': 0.0,\n",
       " 'l_autre': 0.0}"
      ]
     },
     "execution_count": 54,
     "metadata": {},
     "output_type": "execute_result"
    }
   ],
   "source": [
    "#Les effectifs prédits en moyenne\n",
    "cm"
   ]
  },
  {
   "cell_type": "code",
   "execution_count": 55,
   "metadata": {},
   "outputs": [
    {
     "data": {
      "text/plain": [
       "{False: 472.80000000000001, True: 85.200000000000003}"
      ]
     },
     "execution_count": 55,
     "metadata": {},
     "output_type": "execute_result"
    }
   ],
   "source": [
    "#Notre précision moyenne, c'est-à-dire le nombre de circonscriptions prédites justement\n",
    "pm"
   ]
  },
  {
   "cell_type": "markdown",
   "metadata": {},
   "source": [
    "<h1>Essai 2</h1>\n",
    "Le premier essai est loin de la réalité et donne trop de force à la droite.\n",
    "Cette fois on garde toutes les variables sauf year, dep et circ. Le SMOTE pour sa part reste inchangé. Il faudra sûrement essayer en synthétisant plus de lignes."
   ]
  },
  {
   "cell_type": "code",
   "execution_count": 56,
   "metadata": {
    "collapsed": true
   },
   "outputs": [],
   "source": [
    "xcols = df.columns.tolist()\n",
    "xcols.remove('dep')\n",
    "xcols.remove('circ')\n",
    "xcols.remove('year')\n",
    "for lgroup in lgroups:\n",
    "    xcols.remove(lgroup)\n",
    "xcols.remove('l_win')\n",
    "\n",
    "r, p, cr, pm, cm = predict(xcols, sm)"
   ]
  },
  {
   "cell_type": "code",
   "execution_count": 58,
   "metadata": {},
   "outputs": [
    {
     "data": {
      "text/plain": [
       "l_C        409\n",
       "l_D         62\n",
       "l_EG        27\n",
       "l_ED        22\n",
       "l_G         21\n",
       "l_autre     17\n",
       "Name: l_win, dtype: int64"
      ]
     },
     "execution_count": 58,
     "metadata": {},
     "output_type": "execute_result"
    }
   ],
   "source": [
    "#Les effectifs à prédire\n",
    "real.value_counts()"
   ]
  },
  {
   "cell_type": "code",
   "execution_count": 59,
   "metadata": {},
   "outputs": [
    {
     "data": {
      "text/plain": [
       "{'l_C': 324.0,\n",
       " 'l_D': 197.30000000000001,\n",
       " 'l_ED': 5.2999999999999998,\n",
       " 'l_EG': 23.300000000000001,\n",
       " 'l_G': 8.0999999999999996,\n",
       " 'l_autre': 0.0}"
      ]
     },
     "execution_count": 59,
     "metadata": {},
     "output_type": "execute_result"
    }
   ],
   "source": [
    "#Les effectifs prédits en moyenne\n",
    "cm"
   ]
  },
  {
   "cell_type": "code",
   "execution_count": 60,
   "metadata": {},
   "outputs": [
    {
     "data": {
      "text/plain": [
       "{False: 276.5, True: 281.5}"
      ]
     },
     "execution_count": 60,
     "metadata": {},
     "output_type": "execute_result"
    }
   ],
   "source": [
    "#Notre précision moyenne, c'est-à-dire le nombre de circonscriptions prédites justement\n",
    "pm"
   ]
  },
  {
   "cell_type": "markdown",
   "metadata": {},
   "source": [
    "C'est mieux, mais la droite est encore avantagée. Peut-être qu'on devrait plutôt synthétiser des lignes jusqu'à atteindre 25% de son niveau ? Il semble que réintégrer les autres variables démographiques a aidé.\n",
    "\n",
    "<h1>Essai 3</h1>\n",
    "Cette fois on synthétise des lignes pour atteindre 25% de 993 = 248. xcols est inchangé."
   ]
  },
  {
   "cell_type": "code",
   "execution_count": 61,
   "metadata": {},
   "outputs": [],
   "source": [
    "sm = SMOTE(ratio={'l_C': 248,\n",
    "                 'l_EG': 248,\n",
    "                 'l_ED': 248})\n",
    "\n",
    "r, p, cr, pm, cm = predict(xcols, sm)"
   ]
  },
  {
   "cell_type": "code",
   "execution_count": 62,
   "metadata": {},
   "outputs": [
    {
     "data": {
      "text/plain": [
       "l_C        409\n",
       "l_D         62\n",
       "l_EG        27\n",
       "l_ED        22\n",
       "l_G         21\n",
       "l_autre     17\n",
       "Name: l_win, dtype: int64"
      ]
     },
     "execution_count": 62,
     "metadata": {},
     "output_type": "execute_result"
    }
   ],
   "source": [
    "#Les effectifs à prédire\n",
    "real.value_counts()"
   ]
  },
  {
   "cell_type": "code",
   "execution_count": 63,
   "metadata": {},
   "outputs": [
    {
     "data": {
      "text/plain": [
       "{'l_C': 320.69999999999999,\n",
       " 'l_D': 156.80000000000001,\n",
       " 'l_ED': 4.0,\n",
       " 'l_EG': 69.0,\n",
       " 'l_G': 7.5,\n",
       " 'l_autre': 0.0}"
      ]
     },
     "execution_count": 63,
     "metadata": {},
     "output_type": "execute_result"
    }
   ],
   "source": [
    "#Les effectifs prédits en moyenne\n",
    "cm"
   ]
  },
  {
   "cell_type": "code",
   "execution_count": 64,
   "metadata": {},
   "outputs": [
    {
     "data": {
      "text/plain": [
       "{False: 275.19999999999999, True: 282.80000000000001}"
      ]
     },
     "execution_count": 64,
     "metadata": {},
     "output_type": "execute_result"
    }
   ],
   "source": [
    "#Notre précision moyenne, c'est-à-dire le nombre de circonscriptions prédites justement\n",
    "pm"
   ]
  },
  {
   "cell_type": "markdown",
   "metadata": {},
   "source": [
    "C'est l'extrême-gauche qui a récupéré les \"circonscriptions perdues par la droite\".\n",
    "\n",
    "<h1>Essai 4</h1>\n",
    "On se débarasse de nos variables de synthèse surb, paris et OM. Le SMOTE sera celui des essais 1 et 2."
   ]
  },
  {
   "cell_type": "code",
   "execution_count": 65,
   "metadata": {
    "collapsed": true
   },
   "outputs": [],
   "source": [
    "xcols = df.columns.tolist()\n",
    "xcols.remove('dep')\n",
    "xcols.remove('circ')\n",
    "xcols.remove('year')\n",
    "for lgroup in lgroups:\n",
    "    xcols.remove(lgroup)\n",
    "xcols.remove('l_win')\n",
    "xcols.remove('surb')\n",
    "xcols.remove('paris')\n",
    "xcols.remove('OM')\n",
    "\n",
    "sm = SMOTE(ratio={'l_C': 199,\n",
    "                 'l_EG': 199,\n",
    "                 'l_ED': 199})\n",
    "\n",
    "r, p, cr, pm, cm = predict(xcols, sm)"
   ]
  },
  {
   "cell_type": "code",
   "execution_count": 66,
   "metadata": {},
   "outputs": [
    {
     "data": {
      "text/plain": [
       "l_C        409\n",
       "l_D         62\n",
       "l_EG        27\n",
       "l_ED        22\n",
       "l_G         21\n",
       "l_autre     17\n",
       "Name: l_win, dtype: int64"
      ]
     },
     "execution_count": 66,
     "metadata": {},
     "output_type": "execute_result"
    }
   ],
   "source": [
    "#Les effectifs à prédire\n",
    "real.value_counts()"
   ]
  },
  {
   "cell_type": "code",
   "execution_count": 67,
   "metadata": {},
   "outputs": [
    {
     "data": {
      "text/plain": [
       "{'l_C': 363.60000000000002,\n",
       " 'l_D': 165.5,\n",
       " 'l_ED': 4.5,\n",
       " 'l_EG': 4.0999999999999996,\n",
       " 'l_G': 20.300000000000001,\n",
       " 'l_autre': 0.0}"
      ]
     },
     "execution_count": 67,
     "metadata": {},
     "output_type": "execute_result"
    }
   ],
   "source": [
    "#Les effectifs prédits en moyenne\n",
    "cm"
   ]
  },
  {
   "cell_type": "code",
   "execution_count": 68,
   "metadata": {},
   "outputs": [
    {
     "data": {
      "text/plain": [
       "{False: 254.30000000000001, True: 303.69999999999999}"
      ]
     },
     "execution_count": 68,
     "metadata": {},
     "output_type": "execute_result"
    }
   ],
   "source": [
    "#Notre précision moyenne, c'est-à-dire le nombre de circonscriptions prédites justement\n",
    "pm"
   ]
  },
  {
   "cell_type": "markdown",
   "metadata": {},
   "source": [
    "<h1>Essai 5</h1>\n",
    "On reprend les xcols de l'essai 4 et le SMOTE de l'essai 3."
   ]
  },
  {
   "cell_type": "code",
   "execution_count": 69,
   "metadata": {
    "collapsed": true
   },
   "outputs": [],
   "source": [
    "sm = SMOTE(ratio={'l_C': 248,\n",
    "                 'l_EG': 248,\n",
    "                 'l_ED': 248})\n",
    "\n",
    "r, p, cr, pm, cm = predict(xcols, sm)"
   ]
  },
  {
   "cell_type": "code",
   "execution_count": 70,
   "metadata": {},
   "outputs": [
    {
     "data": {
      "text/plain": [
       "l_C        409\n",
       "l_D         62\n",
       "l_EG        27\n",
       "l_ED        22\n",
       "l_G         21\n",
       "l_autre     17\n",
       "Name: l_win, dtype: int64"
      ]
     },
     "execution_count": 70,
     "metadata": {},
     "output_type": "execute_result"
    }
   ],
   "source": [
    "#Les effectifs à prédire\n",
    "real.value_counts()"
   ]
  },
  {
   "cell_type": "code",
   "execution_count": 71,
   "metadata": {},
   "outputs": [
    {
     "data": {
      "text/plain": [
       "{'l_C': 351.69999999999999,\n",
       " 'l_D': 139.59999999999999,\n",
       " 'l_ED': 2.5,\n",
       " 'l_EG': 50.600000000000001,\n",
       " 'l_G': 13.6,\n",
       " 'l_autre': 0.0}"
      ]
     },
     "execution_count": 71,
     "metadata": {},
     "output_type": "execute_result"
    }
   ],
   "source": [
    "#Les effectifs prédits en moyenne\n",
    "cm"
   ]
  },
  {
   "cell_type": "code",
   "execution_count": 72,
   "metadata": {},
   "outputs": [
    {
     "data": {
      "text/plain": [
       "{False: 270.0, True: 288.0}"
      ]
     },
     "execution_count": 72,
     "metadata": {},
     "output_type": "execute_result"
    }
   ],
   "source": [
    "#Notre précision moyenne, c'est-à-dire le nombre de circonscriptions prédites justement\n",
    "pm"
   ]
  },
  {
   "cell_type": "markdown",
   "metadata": {},
   "source": [
    "Ce niveau de SMOTE paraît excessif, il avantage EG qui se retrouve avec deux fois trop de circonscriptions \"remportées\"."
   ]
  },
  {
   "cell_type": "code",
   "execution_count": 79,
   "metadata": {
    "collapsed": true
   },
   "outputs": [],
   "source": [
    "#on pourrait ploter ces résultats, pour voir ce que ça donnerait en termes d'assemblée ! Bon evidemment notre prediction\n",
    "#ne represente pas le resultat post 2e tour.\n",
    "\n",
    "def plotsave_results(rez_d):\n",
    "    \n",
    "    #mpl.rcParams['font.size'] = 40.0\n",
    "    \n",
    "    ED = rez_d['l_ED']\n",
    "    D = rez_d['l_D']\n",
    "    C = rez_d['l_C']\n",
    "    G = rez_d['l_G']\n",
    "    EG = rez_d['l_EG']\n",
    "    autre = rez_d['l_autre']\n",
    "    \n",
    "    S = ED + D + C + G + EG + autre\n",
    "    \n",
    "    results = [ED/(2 * S), D/(2 * S),\n",
    "               C/(2 * S), autre/(2 * S),\n",
    "               G/(2 * S), EG/(2 * S)]\n",
    "    \n",
    "    fig = plt.figure(figsize=(5,5), dpi=150)\n",
    "    plt.pie(results,\n",
    "            labels=['ED: %d' % ED, 'D: %d' % D, 'C: %d' % C, 'autre: %d' % autre, 'G: %d' % G, 'EG: %d' % EG],\n",
    "            colors=['#ca0020', '#f4a582', '#b2abd2', '#fee8c8', '#92c5de', '#0571b0'][::-1])\n",
    "    plt.savefig('./plots/prediction_plot.png')\n",
    "    plt.show()"
   ]
  },
  {
   "cell_type": "code",
   "execution_count": 80,
   "metadata": {},
   "outputs": [
    {
     "data": {
      "image/png": "[encoded data removed]",
      "text/plain": [
       "<matplotlib.figure.Figure at 0x118bd5b90>"
      ]
     },
     "metadata": {},
     "output_type": "display_data"
    }
   ],
   "source": [
    "plotsave_results(cm)"
   ]
  },
  {
   "cell_type": "code",
   "execution_count": 81,
   "metadata": {
    "collapsed": true
   },
   "outputs": [],
   "source": [
    "#Pour comparaison, la situation historique\n",
    "def plot_results(rez_d):\n",
    "    \n",
    "    #mpl.rcParams['font.size'] = 40.0\n",
    "    \n",
    "    ED = rez_d['l_ED']\n",
    "    D = rez_d['l_D']\n",
    "    C = rez_d['l_C']\n",
    "    G = rez_d['l_G']\n",
    "    EG = rez_d['l_EG']\n",
    "    autre = rez_d['l_autre']\n",
    "    \n",
    "    S = ED + D + C + G + EG + autre\n",
    "    \n",
    "    results = [ED/(2 * S), D/(2 * S),\n",
    "               C/(2 * S), autre/(2 * S),\n",
    "               G/(2 * S), EG/(2 * S)]\n",
    "    \n",
    "    fig = plt.figure(figsize=(5,5), dpi=150)\n",
    "    plt.pie(results,\n",
    "            labels=['ED: %d' % ED, 'D: %d' % D, 'C: %d' % C, 'autre: %d' % autre, 'G: %d' % G, 'EG: %d' % EG],\n",
    "            colors=['#ca0020', '#f4a582', '#b2abd2', '#fee8c8', '#92c5de', '#0571b0'][::-1])\n",
    "    plt.show()"
   ]
  },
  {
   "cell_type": "code",
   "execution_count": 82,
   "metadata": {},
   "outputs": [
    {
     "data": {
      "image/png": "[encoded data removed]",
      "text/plain": [
       "<matplotlib.figure.Figure at 0x1101d3050>"
      ]
     },
     "metadata": {},
     "output_type": "display_data"
    }
   ],
   "source": [
    "plot_results(real.value_counts())"
   ]
  },
  {
   "cell_type": "code",
   "execution_count": null,
   "metadata": {
    "collapsed": true
   },
   "outputs": [],
   "source": []
  }
 ],
 "metadata": {
  "kernelspec": {
   "display_name": "Python [default]",
   "language": "python",
   "name": "python2"
  },
  "language_info": {
   "codemirror_mode": {
    "name": "ipython",
    "version": 2
   },
   "file_extension": ".py",
   "mimetype": "text/x-python",
   "name": "python",
   "nbconvert_exporter": "python",
   "pygments_lexer": "ipython2",
   "version": "2.7.12"
  }
 },
 "nbformat": 4,
 "nbformat_minor": 1
}
