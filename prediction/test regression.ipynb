{
 "cells": [
  {
   "cell_type": "code",
   "execution_count": 1,
   "metadata": {
    "collapsed": true
   },
   "outputs": [],
   "source": [
    "import pandas as pd\n",
    "import numpy as np\n",
    "\n",
    "from sklearn.model_selection import cross_val_score\n",
    "\n",
    "from matplotlib import pyplot as plt\n",
    "import seaborn as sns\n",
    "%matplotlib inline\n",
    "\n",
    "from collections import Counter\n",
    "from __future__ import division\n",
    "from itertools import combinations"
   ]
  },
  {
   "cell_type": "code",
   "execution_count": 2,
   "metadata": {
    "collapsed": true
   },
   "outputs": [],
   "source": [
    "path = '../data/merge.csv'\n",
    "df = pd.read_csv(path, index_col=0)"
   ]
  },
  {
   "cell_type": "code",
   "execution_count": 3,
   "metadata": {
    "collapsed": true
   },
   "outputs": [],
   "source": [
    "df.dep = df.dep.apply(lambda x: x.replace('2A', '20').replace('2B', '20'))"
   ]
  },
  {
   "cell_type": "code",
   "execution_count": 4,
   "metadata": {
    "collapsed": true
   },
   "outputs": [],
   "source": [
    "#Stockons dès maintenant une dummisation des départements\n",
    "#garder l'année au cas où\n",
    "\n",
    "ddeps = pd.get_dummies(df.dep).join(df.year)"
   ]
  },
  {
   "cell_type": "code",
   "execution_count": 31,
   "metadata": {
    "collapsed": true
   },
   "outputs": [],
   "source": [
    "groups = ['EG', 'G', 'autre', 'C', 'D', 'ED']\n",
    "lgroups = ['l_%s' % g for g in groups]\n",
    "pgroups = ['presid_%s' % g for g in groups]"
   ]
  },
  {
   "cell_type": "code",
   "execution_count": 5,
   "metadata": {
    "collapsed": true
   },
   "outputs": [],
   "source": [
    "#fonction qui imprime les scores de cross validation (si supérieurs à 0) de régressions données avec un nom donné,\n",
    "#lorsque testées pour le X et le y donnés.\n",
    "def eval_reg(X, y, name, regs):\n",
    "    i = 1\n",
    "    for reg in regs:\n",
    "        score = np.mean(cross_val_score(reg, X, y, cv=24))\n",
    "        if score > 0:\n",
    "            print name + ' %d :' % i, score\n",
    "        else:\n",
    "            print name + \" : R2 negatif\"\n",
    "        i += 1\n",
    "\n",
    "\n",
    "#fct qui applique eval_reg à de nombreuses régressions avec plusieurs hyperparamètres, pour un X et un y donnés.\n",
    "def test_regs(X, y):\n",
    "\n",
    "    #Decision tree\n",
    "    from sklearn.tree import DecisionTreeRegressor\n",
    "    \n",
    "    regr_1 = DecisionTreeRegressor(max_depth=2)\n",
    "    regr_2 = DecisionTreeRegressor(max_depth=5)\n",
    "    regr_3 = DecisionTreeRegressor(max_depth=8)\n",
    "    regs = [regr_1, regr_2, regr_3]\n",
    "    eval_reg(X, y, \"DecisionTree\", regs)\n",
    "    print '_____\\n'\n",
    "    \n",
    "    \n",
    "    #RF\n",
    "    from sklearn.ensemble import RandomForestRegressor\n",
    "    \n",
    "    regr_1 = RandomForestRegressor()\n",
    "    regr_2 = RandomForestRegressor(n_estimators=40)\n",
    "    regr_3 = RandomForestRegressor(min_samples_split=50)\n",
    "    regr_4 = RandomForestRegressor(n_estimators=40, min_samples_split=50)\n",
    "    regs = [regr_1, regr_2, regr_3, regr_4]\n",
    "    eval_reg(X, y, \"RF\", regs)\n",
    "    print '_____\\n'\n",
    "    \n",
    "    \n",
    "    #ExtraTree\n",
    "    from sklearn.tree import ExtraTreeRegressor\n",
    "    \n",
    "    regr_1 = ExtraTreeRegressor(max_depth=2)\n",
    "    regr_2 = ExtraTreeRegressor(max_depth=5)\n",
    "    regr_3 = ExtraTreeRegressor(max_depth=8)\n",
    "    regs = [regr_1, regr_2, regr_3]\n",
    "    eval_reg(X, y, \"ExtraTree\", regs)\n",
    "    print '_____\\n'\n",
    "    \n",
    "    \n",
    "    #Linear\n",
    "    from sklearn.linear_model import LinearRegression\n",
    "    \n",
    "    regr_1 = LinearRegression(normalize=True, fit_intercept=True)\n",
    "    regr_2 = LinearRegression(normalize=True, fit_intercept=False)\n",
    "    regr_3 = LinearRegression(normalize=False, fit_intercept=True)\n",
    "    regr_4 = LinearRegression(normalize=False, fit_intercept=False)\n",
    "    regs = [regr_1, regr_2, regr_3, regr_4]\n",
    "    eval_reg(X, y, \"Linear\", regs)\n",
    "    print '_____\\n'\n",
    "    \n",
    "    \n",
    "    #Ridge\n",
    "    from sklearn.linear_model import Ridge\n",
    "    \n",
    "    \n",
    "    regr_1 = Ridge(alpha=0.1)\n",
    "    regr_2 = Ridge()\n",
    "    regr_3 = Ridge(alpha=10.0)\n",
    "    regs = [regr_1, regr_2, regr_3]\n",
    "    eval_reg(X, y, \"Ridge\", regs)\n",
    "    print '_____\\n'\n",
    "\n",
    "\n",
    "    #Lasso\n",
    "    from sklearn.linear_model import Lasso\n",
    "    \n",
    "    \n",
    "    regr_1 = Lasso(alpha=0.1)\n",
    "    regr_2 = Lasso()\n",
    "    regr_3 = Lasso(alpha=10.0)\n",
    "    regs = [regr_1, regr_2, regr_3]\n",
    "    eval_reg(X, y, \"Lasso\", regs)\n",
    "    print '_____\\n'\n",
    "    \n",
    "    \n",
    "    #MultitaskLasso\n",
    "    from sklearn.linear_model import MultiTaskLasso\n",
    "    \n",
    "    regr_1 = MultiTaskLasso(alpha=0.1)\n",
    "    regr_2 = MultiTaskLasso()\n",
    "    regr_3 = MultiTaskLasso(alpha=10.0)\n",
    "    regs = [regr_1, regr_2, regr_3]\n",
    "    eval_reg(X, y, \"MTLasso\", regs)\n",
    "    print '_____\\n'\n",
    "    \n",
    "    \n",
    "    #ElasticNet\n",
    "    from sklearn.linear_model import ElasticNet\n",
    "    \n",
    "    regr_1 = ElasticNet(alpha=0.1)\n",
    "    regr_2 = ElasticNet()\n",
    "    regr_3 = ElasticNet(alpha=10.0)\n",
    "    regs = [regr_1, regr_2, regr_3]\n",
    "    eval_reg(X, y, \"ElasticNet\", regs)\n",
    "    print '_____\\n'\n",
    "    \n",
    "    \n",
    "    #MTElasticNet\n",
    "    from sklearn.linear_model import MultiTaskElasticNet\n",
    "    \n",
    "    regr_1 = MultiTaskElasticNet(alpha=0.1)\n",
    "    regr_2 = MultiTaskElasticNet()\n",
    "    regr_3 = MultiTaskElasticNet(alpha=10.0)\n",
    "    regs = [regr_1, regr_2, regr_3]\n",
    "    eval_reg(X, y, \"MTElasticNet\", regs)\n",
    "    print '_____\\n'\n",
    "    \n",
    "    \n",
    "    #Lars\n",
    "    from sklearn.linear_model import Lars\n",
    "\n",
    "    regr_1 = Lars(normalize=True, fit_intercept=True)\n",
    "#    regr_2 = Lars(normalize=True, fit_intercept=False)\n",
    "    regr_3 = Lars(normalize=False, fit_intercept=True)\n",
    "#    regr_4 = Lars(normalize=False, fit_intercept=False)\n",
    "    regs = [regr_1, regr_3] #On vire la 2 et la 4 qui ne convergent pas\n",
    "    eval_reg(X, y, \"Lars\", regs)"
   ]
  },
  {
   "cell_type": "code",
   "execution_count": 6,
   "metadata": {
    "collapsed": true
   },
   "outputs": [],
   "source": [
    "#Pour commencer, on test des regressions en utilisant juste les présidentielles\n",
    "X = df[df.columns[-12:-6]]\n",
    "y = df[df.columns[-6:]]"
   ]
  },
  {
   "cell_type": "code",
   "execution_count": 7,
   "metadata": {},
   "outputs": [
    {
     "name": "stdout",
     "output_type": "stream",
     "text": [
      "DecisionTree : R2 negatif\n",
      "DecisionTree 2 : 0.00330162353104\n",
      "DecisionTree : R2 negatif\n",
      "_____\n",
      "\n",
      "RF : R2 negatif\n",
      "RF 2 : 0.0278264267158\n",
      "RF 3 : 0.0408272148118\n",
      "RF 4 : 0.0558547764298\n",
      "_____\n",
      "\n",
      "ExtraTree : R2 negatif\n",
      "ExtraTree : R2 negatif\n",
      "ExtraTree : R2 negatif\n",
      "_____\n",
      "\n",
      "Linear : R2 negatif\n",
      "Linear : R2 negatif\n",
      "Linear : R2 negatif\n",
      "Linear : R2 negatif\n",
      "_____\n",
      "\n",
      "Ridge : R2 negatif\n",
      "Ridge : R2 negatif\n",
      "Ridge : R2 negatif\n",
      "_____\n",
      "\n"
     ]
    },
    {
     "name": "stderr",
     "output_type": "stream",
     "text": [
      "/Users/Tom/anaconda/lib/python2.7/site-packages/sklearn/linear_model/coordinate_descent.py:479: ConvergenceWarning: Objective did not converge. You might want to increase the number of iterations. Fitting data with very small alpha may cause precision problems.\n",
      "  ConvergenceWarning)\n"
     ]
    },
    {
     "name": "stdout",
     "output_type": "stream",
     "text": [
      "Lasso : R2 negatif\n",
      "Lasso : R2 negatif\n",
      "Lasso : R2 negatif\n",
      "_____\n",
      "\n",
      "MTLasso : R2 negatif\n",
      "MTLasso : R2 negatif\n",
      "MTLasso : R2 negatif\n",
      "_____\n",
      "\n",
      "ElasticNet : R2 negatif\n",
      "ElasticNet : R2 negatif\n",
      "ElasticNet : R2 negatif\n",
      "_____\n",
      "\n",
      "MTElasticNet : R2 negatif\n",
      "MTElasticNet : R2 negatif\n",
      "MTElasticNet : R2 negatif\n",
      "_____\n",
      "\n",
      "Lars : R2 negatif\n",
      "Lars : R2 negatif\n"
     ]
    }
   ],
   "source": [
    "test_regs(X, y)"
   ]
  },
  {
   "cell_type": "markdown",
   "metadata": {},
   "source": [
    "Bref pas terrible. Quasiment que des R2 négatifs.\n",
    "La régression arrive-t-elle à qqch si appliquée uniquement à une année, ou bien à deux ? On peut espérer que ça au moins ça fonctionne."
   ]
  },
  {
   "cell_type": "code",
   "execution_count": 8,
   "metadata": {
    "collapsed": true
   },
   "outputs": [],
   "source": [
    "#X et y sont modifiés pour se restreindre aux années 2012 et 2017.\n",
    "X = df[df.year >= 2012.0][df.columns[-12:-6]]\n",
    "y = df[df.year >= 2012.0][df.columns[-6:]]"
   ]
  },
  {
   "cell_type": "code",
   "execution_count": 9,
   "metadata": {},
   "outputs": [
    {
     "name": "stdout",
     "output_type": "stream",
     "text": [
      "DecisionTree : R2 negatif\n",
      "DecisionTree : R2 negatif\n",
      "DecisionTree : R2 negatif\n",
      "_____\n",
      "\n",
      "RF 1 : 0.00447658415743\n",
      "RF 2 : 0.0213020263536\n",
      "RF 3 : 0.0452156119659\n",
      "RF 4 : 0.0521341684218\n",
      "_____\n",
      "\n",
      "ExtraTree : R2 negatif\n",
      "ExtraTree : R2 negatif\n",
      "ExtraTree : R2 negatif\n",
      "_____\n",
      "\n",
      "Linear 1 : 0.0775859454472\n",
      "Linear 2 : 0.0779009168744\n",
      "Linear 3 : 0.0775859454472\n",
      "Linear 4 : 0.0779009168744\n",
      "_____\n",
      "\n",
      "Ridge 1 : 0.0781443477865\n",
      "Ridge 2 : 0.077943889438\n",
      "Ridge 3 : 0.0780611593508\n",
      "_____\n",
      "\n",
      "Lasso 1 : 0.0788201015964\n",
      "Lasso 2 : 0.0783541929208\n",
      "Lasso 3 : 0.0359276793635\n",
      "_____\n",
      "\n"
     ]
    },
    {
     "name": "stderr",
     "output_type": "stream",
     "text": [
      "/Users/Tom/anaconda/lib/python2.7/site-packages/sklearn/linear_model/coordinate_descent.py:1734: UserWarning: Objective did not converge, you might want to increase the number of iterations\n",
      "  warnings.warn('Objective did not converge, you might want'\n"
     ]
    },
    {
     "name": "stdout",
     "output_type": "stream",
     "text": [
      "MTLasso 1 : 0.078648367156\n",
      "MTLasso 2 : 0.0791543219493\n",
      "MTLasso 3 : 0.0566846684068\n",
      "_____\n",
      "\n",
      "ElasticNet 1 : 0.0790576455391\n",
      "ElasticNet 2 : 0.0792452501358\n",
      "ElasticNet 3 : 0.0515205155318\n",
      "_____\n",
      "\n",
      "MTElasticNet 1 : 0.0789794874549\n",
      "MTElasticNet 2 : 0.0802988188475\n",
      "MTElasticNet 3 : 0.0618476016024\n",
      "_____\n",
      "\n",
      "Lars : R2 negatif\n",
      "Lars : R2 negatif\n"
     ]
    }
   ],
   "source": [
    "#On refait les mêmes tests\n",
    "test_regs(X, y)"
   ]
  },
  {
   "cell_type": "code",
   "execution_count": 10,
   "metadata": {
    "collapsed": true
   },
   "outputs": [],
   "source": [
    "#X et y sont modifiés pour se restreindre à 2017.\n",
    "X = df[df.year == 2017.0][df.columns[-12:-6]]\n",
    "y = df[df.year == 2017.0][df.columns[-6:]]"
   ]
  },
  {
   "cell_type": "code",
   "execution_count": 11,
   "metadata": {},
   "outputs": [
    {
     "name": "stdout",
     "output_type": "stream",
     "text": [
      "DecisionTree : R2 negatif\n",
      "DecisionTree : R2 negatif\n",
      "DecisionTree : R2 negatif\n",
      "_____\n",
      "\n",
      "RF : R2 negatif\n",
      "RF : R2 negatif\n",
      "RF : R2 negatif\n",
      "RF : R2 negatif\n",
      "_____\n",
      "\n",
      "ExtraTree : R2 negatif\n",
      "ExtraTree : R2 negatif\n",
      "ExtraTree : R2 negatif\n",
      "_____\n",
      "\n",
      "Linear : R2 negatif\n",
      "Linear : R2 negatif\n",
      "Linear : R2 negatif\n",
      "Linear : R2 negatif\n",
      "_____\n",
      "\n",
      "Ridge : R2 negatif\n",
      "Ridge : R2 negatif\n",
      "Ridge : R2 negatif\n",
      "_____\n",
      "\n",
      "Lasso : R2 negatif\n",
      "Lasso : R2 negatif\n",
      "Lasso : R2 negatif\n",
      "_____\n",
      "\n",
      "MTLasso : R2 negatif\n",
      "MTLasso : R2 negatif\n",
      "MTLasso : R2 negatif\n",
      "_____\n",
      "\n",
      "ElasticNet : R2 negatif\n",
      "ElasticNet : R2 negatif\n",
      "ElasticNet : R2 negatif\n",
      "_____\n",
      "\n",
      "MTElasticNet : R2 negatif\n",
      "MTElasticNet : R2 negatif\n",
      "MTElasticNet : R2 negatif\n",
      "_____\n",
      "\n",
      "Lars : R2 negatif\n",
      "Lars : R2 negatif\n"
     ]
    }
   ],
   "source": [
    "#On refait les mêmes tests\n",
    "test_regs(X, y)"
   ]
  },
  {
   "cell_type": "code",
   "execution_count": 12,
   "metadata": {
    "collapsed": true
   },
   "outputs": [],
   "source": [
    "#X et y sont modifiés pour se restreindre à 2012.\n",
    "X = df[df.year == 2012.0][df.columns[-12:-6]]\n",
    "y = df[df.year == 2012.0][df.columns[-6:]]"
   ]
  },
  {
   "cell_type": "code",
   "execution_count": 13,
   "metadata": {},
   "outputs": [
    {
     "name": "stdout",
     "output_type": "stream",
     "text": [
      "DecisionTree : R2 negatif\n",
      "DecisionTree : R2 negatif\n",
      "DecisionTree : R2 negatif\n",
      "_____\n",
      "\n",
      "RF : R2 negatif\n",
      "RF : R2 negatif\n",
      "RF 3 : 0.001528592097\n",
      "RF 4 : 0.00966386681753\n",
      "_____\n",
      "\n",
      "ExtraTree : R2 negatif\n",
      "ExtraTree : R2 negatif\n",
      "ExtraTree : R2 negatif\n",
      "_____\n",
      "\n",
      "Linear 1 : 0.0419162351651\n",
      "Linear 2 : 0.0433986409983\n",
      "Linear 3 : 0.0419162351651\n",
      "Linear 4 : 0.0433986409983\n",
      "_____\n",
      "\n",
      "Ridge 1 : 0.0447322830841\n",
      "Ridge 2 : 0.0476240103584\n",
      "Ridge 3 : 0.0488668225706\n",
      "_____\n",
      "\n",
      "Lasso 1 : 0.049082268116\n",
      "Lasso 2 : 0.0454637540938\n",
      "Lasso 3 : 0.00869324515001\n",
      "_____\n",
      "\n",
      "MTLasso 1 : 0.0490880450542\n",
      "MTLasso 2 : 0.0488323159224\n",
      "MTLasso 3 : 0.0239165623836\n",
      "_____\n",
      "\n",
      "ElasticNet 1 : 0.0491276754539\n",
      "ElasticNet 2 : 0.0480240030361\n",
      "ElasticNet 3 : 0.0233516245499\n",
      "_____\n",
      "\n",
      "MTElasticNet 1 : 0.0491399196163\n",
      "MTElasticNet 2 : 0.0491159340773\n",
      "MTElasticNet 3 : 0.0288884384989\n",
      "_____\n",
      "\n",
      "Lars : R2 negatif\n",
      "Lars : R2 negatif\n"
     ]
    }
   ],
   "source": [
    "#On refait les mêmes tests\n",
    "test_regs(X, y)"
   ]
  },
  {
   "cell_type": "code",
   "execution_count": 14,
   "metadata": {
    "collapsed": true
   },
   "outputs": [],
   "source": [
    "#X et y sont modifiés pour se restreindre à 2007 et 2012.\n",
    "X = df[(df.year == 2007.0) | (df.year == 2012.0)][df.columns[-12:-6]]\n",
    "y = df[(df.year == 2007.0) | (df.year == 2012.0)][df.columns[-6:]]"
   ]
  },
  {
   "cell_type": "code",
   "execution_count": 15,
   "metadata": {},
   "outputs": [
    {
     "name": "stdout",
     "output_type": "stream",
     "text": [
      "DecisionTree : R2 negatif\n",
      "DecisionTree : R2 negatif\n",
      "DecisionTree : R2 negatif\n",
      "_____\n",
      "\n",
      "RF : R2 negatif\n",
      "RF 2 : 0.0036764663498\n",
      "RF 3 : 0.046530313993\n",
      "RF 4 : 0.0652841091693\n",
      "_____\n",
      "\n",
      "ExtraTree : R2 negatif\n",
      "ExtraTree : R2 negatif\n",
      "ExtraTree : R2 negatif\n",
      "_____\n",
      "\n",
      "Linear 1 : 0.0887869964802\n",
      "Linear 2 : 0.0891967685352\n",
      "Linear 3 : 0.0887869964802\n",
      "Linear 4 : 0.0891967685352\n",
      "_____\n",
      "\n",
      "Ridge 1 : 0.0894265222531\n",
      "Ridge 2 : 0.089230765671\n",
      "Ridge 3 : 0.0870813080397\n",
      "_____\n",
      "\n",
      "Lasso 1 : 0.0842302893923\n",
      "Lasso 2 : 0.0840130638987\n",
      "Lasso 3 : 0.0361449529349\n",
      "_____\n",
      "\n",
      "MTLasso 1 : 0.0841709258364\n",
      "MTLasso 2 : 0.0843436196439\n",
      "MTLasso 3 : 0.0666638410807\n",
      "_____\n",
      "\n",
      "ElasticNet 1 : 0.0842251822411\n",
      "ElasticNet 2 : 0.0846565125396\n",
      "ElasticNet 3 : 0.059750893201\n",
      "_____\n",
      "\n",
      "MTElasticNet 1 : 0.0845524843741\n",
      "MTElasticNet 2 : 0.0845004957382\n",
      "MTElasticNet 3 : 0.0723668647273\n",
      "_____\n",
      "\n",
      "Lars : R2 negatif\n",
      "Lars : R2 negatif\n"
     ]
    }
   ],
   "source": [
    "#On refait les mêmes tests\n",
    "test_regs(X, y)"
   ]
  },
  {
   "cell_type": "code",
   "execution_count": 16,
   "metadata": {
    "collapsed": true
   },
   "outputs": [],
   "source": [
    "#X et y sont modifiés pour se restreindre à 2002 + 2007 + 2012.\n",
    "X = df[(2002 <= df.year) & (df.year <= 2012.0)][df.columns[-12:-6]]\n",
    "y = df[(2002 <= df.year) & (df.year <= 2012.0)][df.columns[-6:]]"
   ]
  },
  {
   "cell_type": "code",
   "execution_count": 17,
   "metadata": {},
   "outputs": [
    {
     "name": "stdout",
     "output_type": "stream",
     "text": [
      "DecisionTree : R2 negatif\n",
      "DecisionTree : R2 negatif\n",
      "DecisionTree : R2 negatif\n",
      "_____\n",
      "\n",
      "RF : R2 negatif\n",
      "RF 2 : 0.0144822749979\n",
      "RF 3 : 0.0300182367239\n",
      "RF 4 : 0.0564805417025\n",
      "_____\n",
      "\n",
      "ExtraTree : R2 negatif\n",
      "ExtraTree 2 : 8.17026218501e-05\n",
      "ExtraTree : R2 negatif\n",
      "_____\n",
      "\n",
      "Linear 1 : 0.0763463207401\n",
      "Linear 2 : 0.0776787255028\n",
      "Linear 3 : 0.0763463207401\n",
      "Linear 4 : 0.0776787255028\n",
      "_____\n",
      "\n",
      "Ridge 1 : 0.0774367244532\n",
      "Ridge 2 : 0.0776473202271\n",
      "Ridge 3 : 0.077685561765\n",
      "_____\n",
      "\n",
      "Lasso 1 : 0.0779372620159\n",
      "Lasso 2 : 0.0762064046891\n",
      "Lasso 3 : 0.0122994700749\n",
      "_____\n",
      "\n",
      "MTLasso 1 : 0.0777972770198\n",
      "MTLasso 2 : 0.0777829208267\n",
      "MTLasso 3 : 0.0416724742952\n",
      "_____\n",
      "\n",
      "ElasticNet 1 : 0.0779208190121\n",
      "ElasticNet 2 : 0.0776152352245\n",
      "ElasticNet 3 : 0.037679599294\n",
      "_____\n",
      "\n",
      "MTElasticNet 1 : 0.0778461282408\n",
      "MTElasticNet 2 : 0.0780445926385\n",
      "MTElasticNet 3 : 0.0524379154528\n",
      "_____\n",
      "\n",
      "Lars : R2 negatif\n",
      "Lars : R2 negatif\n"
     ]
    }
   ],
   "source": [
    "#On refait les mêmes tests\n",
    "test_regs(X, y)"
   ]
  },
  {
   "cell_type": "code",
   "execution_count": 18,
   "metadata": {
    "collapsed": true
   },
   "outputs": [],
   "source": [
    "#X et y sont modifiés pour se restreindre à 2007 + 2012 + 2017.\n",
    "X = df[(2007 <= df.year)][df.columns[-12:-6]]\n",
    "y = df[(2007 <= df.year)][df.columns[-6:]]"
   ]
  },
  {
   "cell_type": "code",
   "execution_count": 19,
   "metadata": {},
   "outputs": [
    {
     "name": "stdout",
     "output_type": "stream",
     "text": [
      "DecisionTree : R2 negatif\n",
      "DecisionTree 2 : 0.00654022250294\n",
      "DecisionTree : R2 negatif\n",
      "_____\n",
      "\n",
      "RF 1 : 0.000222026397022\n",
      "RF 2 : 0.034804729545\n",
      "RF 3 : 0.0624139910939\n",
      "RF 4 : 0.0787597348497\n",
      "_____\n",
      "\n",
      "ExtraTree : R2 negatif\n",
      "ExtraTree : R2 negatif\n",
      "ExtraTree : R2 negatif\n",
      "_____\n",
      "\n",
      "Linear 1 : 0.0551173134833\n",
      "Linear 2 : 0.0572075286298\n",
      "Linear 3 : 0.0551173134833\n",
      "Linear 4 : 0.0572075286298\n",
      "_____\n",
      "\n",
      "Ridge 1 : 0.0569458473998\n",
      "Ridge 2 : 0.0572063440162\n",
      "Ridge 3 : 0.0575186370769\n",
      "_____\n",
      "\n",
      "Lasso 1 : 0.0591342121557\n",
      "Lasso 2 : 0.0562166941964\n",
      "Lasso 3 : 0.00114212193847\n",
      "_____\n",
      "\n",
      "MTLasso 1 : 0.0583478677285\n",
      "MTLasso 2 : 0.0602585962972\n",
      "MTLasso 3 : 0.0337430354222\n",
      "_____\n",
      "\n",
      "ElasticNet 1 : 0.060218155916\n",
      "ElasticNet 2 : 0.0595573688026\n",
      "ElasticNet 3 : 0.0240791996453\n",
      "_____\n",
      "\n",
      "MTElasticNet 1 : 0.0597416920571\n",
      "MTElasticNet 2 : 0.0612824674458\n",
      "MTElasticNet 3 : 0.0399137416088\n",
      "_____\n",
      "\n",
      "Lars 1 : 0.0523567813487\n",
      "Lars : R2 negatif\n"
     ]
    }
   ],
   "source": [
    "#On refait les mêmes tests\n",
    "test_regs(X, y)"
   ]
  },
  {
   "cell_type": "markdown",
   "metadata": {},
   "source": [
    "L'algorithme qui donne le meilleur R2 n'est pas toujours le même selon les années dans le jeu d'entraînement. Quoiqu'il en soit on reste sur des scores bien faibles...\n",
    "\n",
    "Est-ce que les coefficients sont très différents selon les années qui ont entraîné le modèle ?"
   ]
  },
  {
   "cell_type": "code",
   "execution_count": 20,
   "metadata": {
    "collapsed": true
   },
   "outputs": [],
   "source": [
    "#Test d'une régression Lasso avec alpha = 1 sur les années 2002, 2007, 2012, 2017, pour voir les R^2 et coefs\n",
    "\n",
    "from sklearn.linear_model import Lasso\n",
    "regr_2 = Lasso()\n",
    "\n",
    "X1 = df[df.year == 2002.0][df.columns[-12:-6]]\n",
    "y1 = df[df.year == 2002.0][df.columns[-6:]]\n",
    "\n",
    "X2 = df[df.year == 2007.0][df.columns[-12:-6]]\n",
    "y2 = df[df.year == 2007.0][df.columns[-6:]]\n",
    "\n",
    "X3 = df[df.year == 2012.0][df.columns[-12:-6]]\n",
    "y3 = df[df.year == 2012.0][df.columns[-6:]]\n",
    "\n",
    "X4 = df[df.year == 2017.0][df.columns[-12:-6]]\n",
    "y4 = df[df.year == 2017.0][df.columns[-6:]]"
   ]
  },
  {
   "cell_type": "code",
   "execution_count": 21,
   "metadata": {},
   "outputs": [
    {
     "name": "stdout",
     "output_type": "stream",
     "text": [
      "2002 1 : 0.00634536851447\n",
      "[[ 0.41151286 -0.          0.          0.         -0.         -0.        ]\n",
      " [ 0.          1.02797817  0.         -0.38888801 -0.29923686 -0.        ]\n",
      " [ 0.         -0.          0.56277398 -0.03243499 -0.01252142  0.        ]\n",
      " [-0.05677739 -0.         -0.17012186  0.36354689  0.07508955  0.        ]\n",
      " [-0.         -0.22921198  0.          0.97667906  0.59554369 -0.        ]\n",
      " [ 0.          0.          0.          0.          0.          0.        ]]\n",
      "________\n",
      "\n",
      "2007 1 : 0.0534219927783\n",
      "[[ 0.5979913   0.02281881 -0.         -0.         -0.13588298  0.        ]\n",
      " [ 0.24278764  0.60467657 -0.         -0.         -0.57280017  0.        ]\n",
      " [-0.          0.03172636  0.32897865 -0.         -0.05651096  0.        ]\n",
      " [-0.02505132 -0.         -0.          0.3113791   0.17384958  0.        ]\n",
      " [-0.35063858 -0.59194225  0.          0.          0.80419054  0.        ]\n",
      " [ 0.          0.          0.          0.          0.          0.        ]]\n",
      "________\n",
      "\n",
      "2012 1 : 0.0454637540938\n",
      "[[ 0.22189817 -0.         -0.         -0.          0.00992818  0.        ]\n",
      " [ 0.49017715  0.93402901 -0.         -0.0833564  -0.32585479  0.        ]\n",
      " [-0.13558376  0.          0.69390333  0.         -0.16598431 -0.        ]\n",
      " [-0.45668044  0.         -0.22766384  0.58483466  0.         -0.        ]\n",
      " [ 0.3137878  -0.69367554 -0.05712284 -0.          0.64955921  0.        ]\n",
      " [ 0.          0.          0.          0.          0.          0.        ]]\n",
      "________\n",
      "\n",
      "2017 : R2 negatif\n",
      "[[ 0.86974602 -0.          0.         -0.25672587 -0.          0.        ]\n",
      " [-0.26287148  0.79569765  0.         -0.31122631 -0.          0.        ]\n",
      " [-0.         -0.          0.69640999  0.         -0.         -0.        ]\n",
      " [ 0.11531159 -0.12130126 -0.          0.51672483 -0.         -0.        ]\n",
      " [-0.23404137 -0.         -0.          0.58681891  1.52537049  0.        ]\n",
      " [-0.          0.02111578 -0.         -0.          0.          0.        ]]\n",
      "________\n",
      "\n"
     ]
    }
   ],
   "source": [
    "eval_reg(X1, y1, \"2002\", [regr_2])\n",
    "regr_2.fit(X1, y1)\n",
    "print regr_2.coef_\n",
    "print '________\\n'\n",
    "\n",
    "eval_reg(X2, y2, \"2007\", [regr_2])\n",
    "regr_2.fit(X2, y2)\n",
    "print regr_2.coef_\n",
    "print '________\\n'\n",
    "\n",
    "eval_reg(X3, y3, \"2012\", [regr_2])\n",
    "regr_2.fit(X3, y3)\n",
    "print regr_2.coef_\n",
    "print '________\\n'\n",
    "\n",
    "eval_reg(X4, y4, \"2017\", [regr_2])\n",
    "regr_2.fit(X4, y4)\n",
    "print regr_2.coef_\n",
    "print '________\\n'"
   ]
  },
  {
   "cell_type": "markdown",
   "metadata": {},
   "source": [
    "On a effectivement des coefs assez différents d'une année à l'autre.\n",
    "\n",
    "Bien il est temps de réintégrer des variables. Commençons par un test brut avec toutes les variables."
   ]
  },
  {
   "cell_type": "code",
   "execution_count": 22,
   "metadata": {},
   "outputs": [
    {
     "name": "stdout",
     "output_type": "stream",
     "text": [
      "2012 et 2017 toutes features : 0.0484472697038\n",
      "[[ -5.69544870e-03  -9.13455560e-02   1.25253815e+00   9.30122361e-07\n",
      "   -1.47774412e-04   0.00000000e+00   0.00000000e+00  -0.00000000e+00\n",
      "   -0.00000000e+00  -0.00000000e+00   0.00000000e+00   0.00000000e+00\n",
      "    1.20769803e+00  -8.34481877e-02   8.44923766e-02  -6.76805895e-02\n",
      "   -0.00000000e+00   0.00000000e+00]\n",
      " [  3.05179003e-03  -8.10846657e-02  -0.00000000e+00  -1.31728800e-06\n",
      "    1.46921279e-04  -0.00000000e+00   0.00000000e+00   4.59477992e-02\n",
      "   -3.02115981e-02  -1.36993893e-01   0.00000000e+00  -2.57719240e-01\n",
      "   -1.45618677e-01   1.17017588e+00   1.74636256e-01  -0.00000000e+00\n",
      "   -0.00000000e+00  -0.00000000e+00]\n",
      " [ -7.38048978e-03   3.15169220e-01  -0.00000000e+00   6.86667455e-07\n",
      "   -2.29459021e-05  -0.00000000e+00  -0.00000000e+00   0.00000000e+00\n",
      "    0.00000000e+00  -0.00000000e+00  -0.00000000e+00   0.00000000e+00\n",
      "   -2.37871572e-01   0.00000000e+00   6.31105906e-01  -0.00000000e+00\n",
      "   -0.00000000e+00  -0.00000000e+00]\n",
      " [ -5.33763740e-03   0.00000000e+00   0.00000000e+00   1.38025179e-06\n",
      "    1.98466331e-04   0.00000000e+00   0.00000000e+00  -0.00000000e+00\n",
      "   -0.00000000e+00   0.00000000e+00  -0.00000000e+00   0.00000000e+00\n",
      "   -0.00000000e+00  -2.24539258e-01  -4.35230160e-02   3.90066550e-01\n",
      "    5.51485805e-03   0.00000000e+00]\n",
      " [  9.96248365e-03  -7.70921551e-03  -4.89728824e-01  -1.15217516e-06\n",
      "   -2.51537830e-04   0.00000000e+00  -0.00000000e+00  -0.00000000e+00\n",
      "    1.05636743e-01   2.79609118e-02  -0.00000000e+00   0.00000000e+00\n",
      "   -0.00000000e+00  -0.00000000e+00  -0.00000000e+00   5.58405275e-01\n",
      "    1.02408145e+00  -0.00000000e+00]\n",
      " [  6.27223019e-03   0.00000000e+00   0.00000000e+00  -4.82076018e-07\n",
      "    4.90751962e-05   0.00000000e+00   0.00000000e+00  -0.00000000e+00\n",
      "   -0.00000000e+00   0.00000000e+00   0.00000000e+00  -0.00000000e+00\n",
      "    6.83348847e-02  -2.31800320e-02  -0.00000000e+00   0.00000000e+00\n",
      "   -2.04620843e-01   0.00000000e+00]]\n",
      "________\n",
      "\n"
     ]
    }
   ],
   "source": [
    "X = df[df.year >= 2012.0][df.columns[:-6]]\n",
    "y = df[df.year >= 2012.0][df.columns[-6:]]\n",
    "\n",
    "print \"2012 et 2017 toutes features :\", np.mean(cross_val_score(regr_2, X, y, cv=24))\n",
    "regr_2.fit(X, y)\n",
    "print regr_2.coef_\n",
    "print '________\\n'"
   ]
  },
  {
   "cell_type": "markdown",
   "metadata": {},
   "source": [
    "Certaines variables ne sont pas vraiment utilisées, par exemple les age_1/2...\n",
    "On va donc réintégrer quelques variables à la fois."
   ]
  },
  {
   "cell_type": "code",
   "execution_count": 23,
   "metadata": {},
   "outputs": [
    {
     "name": "stdout",
     "output_type": "stream",
     "text": [
      "2012 et 2017 avec ddeps : 0.0783541929208\n",
      "[[-0.          0.         -0.         -0.          0.          0.         -0.\n",
      "  -0.         -0.          0.         -0.         -0.         -0.          0.\n",
      "  -0.          0.         -0.         -0.          0.          0.         -0.\n",
      "  -0.         -0.          0.          0.          0.          0.          0.\n",
      "  -0.         -0.         -0.         -0.         -0.          0.          0.\n",
      "   0.         -0.         -0.          0.         -0.          0.          0.\n",
      "  -0.          0.          0.         -0.         -0.         -0.         -0.\n",
      "  -0.          0.         -0.         -0.          0.          0.          0.\n",
      "  -0.         -0.          0.         -0.          0.          0.          0.\n",
      "  -0.          0.          0.         -0.         -0.          0.         -0.\n",
      "  -0.          0.         -0.         -0.         -0.          0.          0.\n",
      "  -0.          0.         -0.         -0.          0.          0.         -0.\n",
      "   0.          0.         -0.         -0.         -0.          0.         -0.\n",
      "   0.          0.         -0.         -0.         -0.         -0.          0.\n",
      "   0.          0.          1.50888988 -0.07704676  0.28329718 -0.\n",
      "  -0.00361249  0.        ]\n",
      " [ 0.          0.         -0.          0.         -0.         -0.          0.\n",
      "  -0.          0.         -0.          0.         -0.         -0.          0.\n",
      "   0.          0.          0.          0.         -0.         -0.         -0.\n",
      "   0.          0.         -0.         -0.         -0.         -0.         -0.\n",
      "  -0.          0.          0.          0.          0.         -0.         -0.\n",
      "  -0.          0.          0.         -0.          0.         -0.         -0.\n",
      "   0.         -0.         -0.          0.          0.          0.          0.\n",
      "  -0.         -0.          0.          0.         -0.         -0.         -0.\n",
      "   0.          0.         -0.          0.         -0.         -0.         -0.\n",
      "   0.          0.          0.         -0.          0.          0.         -0.\n",
      "   0.          0.         -0.         -0.          0.          0.         -0.\n",
      "   0.         -0.          0.          0.         -0.         -0.         -0.\n",
      "  -0.         -0.          0.          0.          0.         -0.         -0.\n",
      "  -0.         -0.          0.          0.         -0.         -0.         -0.\n",
      "   0.         -0.         -0.11734821  1.23657423  0.16271022 -0.         -0.\n",
      "   0.        ]\n",
      " [ 0.          0.          0.         -0.          0.         -0.         -0.\n",
      "  -0.         -0.         -0.         -0.          0.         -0.         -0.\n",
      "  -0.         -0.         -0.          0.          0.          0.         -0.\n",
      "  -0.         -0.          0.          0.         -0.          0.          0.\n",
      "  -0.         -0.         -0.          0.         -0.          0.         -0.\n",
      "  -0.          0.         -0.         -0.          0.         -0.          0.\n",
      "  -0.         -0.         -0.         -0.         -0.         -0.         -0.\n",
      "  -0.         -0.         -0.          0.         -0.          0.          0.\n",
      "   0.         -0.          0.         -0.         -0.         -0.          0.\n",
      "  -0.         -0.          0.         -0.         -0.         -0.         -0.\n",
      "  -0.         -0.          0.          0.          0.          0.         -0.\n",
      "  -0.         -0.          0.          0.          0.          0.          0.\n",
      "  -0.         -0.         -0.          0.         -0.         -0.          0.\n",
      "   0.          0.          0.          0.         -0.         -0.         -0.\n",
      "  -0.         -0.         -0.20834165  0.05853489  0.65870346  0.         -0.\n",
      "  -0.        ]\n",
      " [ 0.          0.         -0.          0.          0.          0.         -0.\n",
      "  -0.         -0.          0.         -0.          0.          0.          0.\n",
      "  -0.         -0.          0.          0.         -0.          0.          0.\n",
      "  -0.          0.          0.          0.         -0.         -0.          0.\n",
      "  -0.         -0.          0.          0.         -0.          0.         -0.\n",
      "  -0.          0.         -0.          0.         -0.          0.         -0.\n",
      "  -0.         -0.          0.         -0.         -0.          0.         -0.\n",
      "   0.         -0.         -0.         -0.         -0.          0.         -0.\n",
      "   0.         -0.          0.          0.         -0.          0.         -0.\n",
      "   0.         -0.          0.         -0.         -0.         -0.         -0.\n",
      "   0.         -0.          0.          0.         -0.          0.         -0.\n",
      "  -0.          0.         -0.          0.         -0.         -0.         -0.\n",
      "   0.         -0.         -0.         -0.         -0.         -0.         -0.\n",
      "  -0.          0.          0.          0.         -0.          0.         -0.\n",
      "  -0.         -0.          0.         -0.03286635 -0.06166216  0.6110937\n",
      "   0.         -0.        ]\n",
      " [-0.         -0.          0.         -0.         -0.         -0.          0.\n",
      "   0.          0.          0.          0.          0.         -0.         -0.\n",
      "   0.          0.          0.         -0.          0.         -0.         -0.\n",
      "   0.         -0.         -0.          0.          0.          0.         -0.\n",
      "   0.          0.          0.         -0.         -0.         -0.          0.\n",
      "   0.         -0.         -0.          0.         -0.         -0.          0.\n",
      "   0.         -0.         -0.          0.         -0.         -0.          0.\n",
      "   0.          0.         -0.          0.          0.         -0.         -0.\n",
      "  -0.          0.          0.         -0.          0.         -0.          0.\n",
      "  -0.         -0.         -0.          0.          0.          0.          0.\n",
      "  -0.         -0.         -0.          0.          0.         -0.          0.\n",
      "   0.         -0.          0.          0.         -0.         -0.          0.\n",
      "  -0.          0.          0.          0.          0.          0.         -0.\n",
      "  -0.         -0.         -0.         -0.          0.         -0.          0.\n",
      "   0.          0.         -0.09379745 -0.15049636  0.          0.36431786\n",
      "   1.06337042 -0.        ]\n",
      " [-0.         -0.         -0.         -0.         -0.         -0.         -0.\n",
      "   0.          0.          0.         -0.         -0.          0.         -0.\n",
      "   0.         -0.         -0.         -0.         -0.          0.          0.\n",
      "   0.         -0.         -0.         -0.          0.         -0.         -0.\n",
      "   0.         -0.         -0.         -0.         -0.         -0.         -0.\n",
      "   0.          0.         -0.         -0.         -0.         -0.          0.\n",
      "  -0.         -0.          0.         -0.          0.         -0.          0.\n",
      "  -0.          0.          0.          0.          0.          0.          0.\n",
      "  -0.         -0.         -0.          0.          0.         -0.          0.\n",
      "   0.          0.         -0.         -0.         -0.         -0.         -0.\n",
      "   0.         -0.         -0.         -0.         -0.         -0.         -0.\n",
      "  -0.          0.         -0.         -0.         -0.         -0.         -0.\n",
      "   0.         -0.         -0.          0.         -0.          0.          0.\n",
      "  -0.          0.         -0.          0.          0.          0.          0.\n",
      "   0.          0.          0.12656021 -0.04964279 -0.          0.\n",
      "  -0.14844959  0.        ]]\n",
      "________\n",
      "\n"
     ]
    }
   ],
   "source": [
    "#test avec les département binarisés.\n",
    "\n",
    "X = ddeps[ddeps.year >= 2012.0][ddeps.columns[:-1]].join(df[df.year >= 2012.0][df.columns[-12:-6].tolist()])\n",
    "y = df[df.year >= 2012.0][df.columns[-6:]]\n",
    "\n",
    "\n",
    "print \"2012 et 2017 avec ddeps :\", np.mean(cross_val_score(regr_2, X, y, cv=24))\n",
    "regr_2.fit(X, y)\n",
    "print regr_2.coef_\n",
    "print '________\\n'"
   ]
  },
  {
   "cell_type": "code",
   "execution_count": 24,
   "metadata": {
    "collapsed": true
   },
   "outputs": [],
   "source": [
    "#aucune utilisation des départements..."
   ]
  },
  {
   "cell_type": "code",
   "execution_count": 25,
   "metadata": {},
   "outputs": [
    {
     "name": "stdout",
     "output_type": "stream",
     "text": [
      "Pour 2007/2012 :\n",
      "sans réintégrer de var 1 : 0.0840130638987\n",
      "avec dep 1 : 0.0807121469982\n",
      "avec circ 1 : 0.0852232736626\n",
      "avec year 1 : 0.0887734250887\n",
      "avec pop 1 : 0.0852072141634\n",
      "avec dens 1 : 0.0850232140576\n",
      "avec age_1 1 : 0.0832678621051\n",
      "avec age_2 1 : 0.0883102889099\n",
      "avec age_3 1 : 0.0844122953395\n",
      "avec age_4 1 : 0.0851008999091\n",
      "avec etud 1 : 0.0841300542758\n",
      "avec hf 1 : 0.0840130638987\n",
      "avec chom 1 : 0.0828642114762\n",
      "_______\n",
      "Pour 2012/2017 :\n",
      "sans réintégrer de var 1 : 0.0783541929208\n",
      "avec dep 1 : 0.0323377459958\n",
      "avec circ 1 : 0.0880127661549\n",
      "avec year 1 : 0.0786981047489\n",
      "avec pop 1 : 0.0877296965746\n",
      "avec dens 1 : 0.0791631537611\n",
      "avec age_1 1 : 0.0744483961037\n",
      "avec age_2 1 : 0.0847571818264\n",
      "avec age_3 1 : 0.0800354484094\n",
      "avec age_4 1 : 0.0767661874445\n",
      "avec etud 1 : 0.0806736542992\n",
      "avec hf 1 : 0.0783541929208\n",
      "avec chom 1 : 0.0542124969519\n"
     ]
    }
   ],
   "source": [
    "#Travail de réintégration des variables. On test en réintégrant chacune des variables.\n",
    "#On va le faire sur 2007/2012, puis sur 2012/2017\n",
    "\n",
    "X1 = df[(df.year == 2012.0) | (df.year == 2007.0)][df.columns[-12:-6]]\n",
    "y1 = df[(df.year == 2012.0) | (df.year == 2007.0)][df.columns[-6:]]\n",
    "\n",
    "X2 = df[df.year >= 2012][df.columns[-12:-6]]\n",
    "y2 = df[df.year >= 2012][df.columns[-6:]]\n",
    "\n",
    "l1 = {}\n",
    "l2 = {}\n",
    "\n",
    "for col in df.columns[:-12]:\n",
    "    l1[col] = X1.join(df[col])\n",
    "    l2[col] = X2.join(df[col])\n",
    "\n",
    "print \"Pour 2007/2012 :\"\n",
    "eval_reg(X1, y1, \"sans réintégrer de var\", [regr_2])\n",
    "for col in df.columns[:-12]:\n",
    "    eval_reg(l1[col], y1, \"avec %s\" % col, [regr_2])\n",
    "\n",
    "print '_______'\n",
    "\n",
    "print \"Pour 2012/2017 :\"\n",
    "eval_reg(X2, y2, \"sans réintégrer de var\", [regr_2])\n",
    "for col in df.columns[:-12]:\n",
    "    eval_reg(l2[col], y2, \"avec %s\" % col, [regr_2])"
   ]
  },
  {
   "cell_type": "code",
   "execution_count": 26,
   "metadata": {},
   "outputs": [
    {
     "name": "stdout",
     "output_type": "stream",
     "text": [
      "Pour 2007/2012, seul : 0.0840130638987\n",
      "Pour 2007/2012, year, age_3 : 0.089049\n",
      "Pour 2007/2012, year, age_4 : 0.090455\n",
      "Pour 2007/2012, year, age_2 : 0.093202\n",
      "_______\n",
      "Pour 2012/2017, seul : 0.0783541929208\n",
      "Pour 2012/2017, circ, dens : 0.086958\n",
      "Pour 2012/2017, circ, hf : 0.088013\n",
      "Pour 2012/2017, circ, age_2 : 0.091065\n"
     ]
    }
   ],
   "source": [
    "#rien de fou mais on peut gagner quelques dixièmes de point.\n",
    "#réintégration de deux variables à la fois\n",
    "\n",
    "ll1 = {}\n",
    "ll2 = {}\n",
    "\n",
    "for col1 in df.columns[:-12]:\n",
    "    for col2 in df.columns[:-12]:\n",
    "        if (col1 != col2) and ((col2, col1) not in ll1.keys()):\n",
    "            ll1[(col1, col2)] = X1.join(df[col1]).join(df[col2])\n",
    "        else:\n",
    "            pass\n",
    "        \n",
    "for col1 in df.columns[:-12]:\n",
    "    for col2 in df.columns[:-12]:\n",
    "        if (col1 != col2) and ((col2, col1) not in ll2.keys()):\n",
    "            ll2[(col1, col2)] = X2.join(df[col1]).join(df[col2])\n",
    "        else:\n",
    "            pass\n",
    "\n",
    "score_min = np.mean(cross_val_score(regr_2, X1, y1, cv=24))\n",
    "print \"Pour 2007/2012, seul :\", score_min\n",
    "for (col1, col2) in ll1.keys():\n",
    "    score = np.mean(cross_val_score(regr_2, ll1[col1, col2], y1, cv=24))\n",
    "    if score > score_min:\n",
    "        score_min = score #Certes on ne verra pas \"les meilleurs scores\" mais on limitera le nombre de print\n",
    "        print \"Pour 2007/2012, %s, %s : %f\" % (col1, col2, score)\n",
    "    else:\n",
    "        pass\n",
    "\n",
    "print '_______'\n",
    "score_min = np.mean(cross_val_score(regr_2, X2, y2, cv=24))\n",
    "print \"Pour 2012/2017, seul :\", score_min\n",
    "for (col1, col2) in ll2.keys():\n",
    "    score = np.mean(cross_val_score(regr_2, ll2[col1, col2], y2, cv=24))\n",
    "    if score > score_min:\n",
    "        score_min = score\n",
    "        print \"Pour 2012/2017, %s, %s : %f\" % (col1, col2, score)\n",
    "    else:\n",
    "        pass"
   ]
  },
  {
   "cell_type": "code",
   "execution_count": 27,
   "metadata": {},
   "outputs": [
    {
     "name": "stdout",
     "output_type": "stream",
     "text": [
      "Pour 2007/2012, seul : 0.084013\n",
      "Pour 2007/2012, age_1, age_2, chom : 0.087231\n",
      "Pour 2007/2012, year, hf, chom : 0.088445\n",
      "Pour 2007/2012, year, dens, age_1 : 0.089286\n",
      "Pour 2007/2012, year, pop, chom : 0.090273\n",
      "Pour 2007/2012, circ, year, age_3 : 0.090464\n",
      "Pour 2007/2012, year, age_2, chom : 0.092878\n",
      "Pour 2007/2012, year, age_1, age_2 : 0.093125\n",
      "Pour 2007/2012, year, age_2, age_3 : 0.093156\n",
      "Pour 2007/2012, year, age_2, hf : 0.093202\n",
      "_______\n",
      "Pour 2012/2017, seul : 0.078354\n",
      "Pour 2012/2017, circ, age_4, etud : 0.086066\n",
      "Pour 2012/2017, circ, pop, etud : 0.089604\n",
      "Pour 2012/2017, circ, pop, hf : 0.089861\n",
      "Pour 2012/2017, circ, pop, age_2 : 0.090339\n",
      "Pour 2012/2017, circ, year, age_2 : 0.091410\n",
      "Pour 2012/2017, circ, age_2, age_3 : 0.091671\n"
     ]
    }
   ],
   "source": [
    "#Bref, peut-être que 3 variables nous amèneront au dessus de la barre des 10% ?\n",
    "\n",
    "lll1 = {}\n",
    "lll2 = {}\n",
    "\n",
    "for (col1, col2, col3) in combinations(df.columns[:-12].tolist(), 3):\n",
    "    lll1[(col1, col2, col3)] = X1.join(df[col1]).join(df[col2]).join(df[col3])\n",
    "    \n",
    "for (col1, col2, col3) in combinations(df.columns[:-12].tolist(), 3):\n",
    "    lll2[(col1, col2, col3)] = X2.join(df[col1]).join(df[col2]).join(df[col3])\n",
    "\n",
    "score_min = np.mean(cross_val_score(regr_2, X1, y1, cv=24))\n",
    "print \"Pour 2007/2012, seul : %f\" % score_min\n",
    "for (col1, col2, col3) in lll1.keys():\n",
    "    score = np.mean(cross_val_score(regr_2, lll1[col1, col2, col3], y1, cv=24))\n",
    "    if score > score_min:\n",
    "        score_min = score\n",
    "        print \"Pour 2007/2012, %s, %s, %s : %f\" % (col1, col2, col3, score)\n",
    "    else:\n",
    "        pass\n",
    "\n",
    "print '_______'\n",
    "\n",
    "score_min = np.mean(cross_val_score(regr_2, X2, y2, cv=24))\n",
    "print \"Pour 2012/2017, seul : %f\" % score_min\n",
    "for (col1, col2, col3) in lll2.keys():\n",
    "    score = np.mean(cross_val_score(regr_2, lll2[col1, col2, col3], y2, cv=24))\n",
    "    if score > score_min:\n",
    "        score_min = score\n",
    "        print \"Pour 2012/2017, %s, %s, %s : %f\" % (col1, col2, col3, score)\n",
    "    else:\n",
    "        pass"
   ]
  },
  {
   "cell_type": "markdown",
   "metadata": {
    "collapsed": true
   },
   "source": [
    "Finalement on arrive pas à passer la barre des 10%.\n",
    "Essayons quand même une prédiction pour 2017 avec le meilleur modèle entraîné sur 2007/2012 qui n'utilise pas l'année (variable qui ne peut que conduire à du surentraînement). Il s'agit du modèle qui utilise age_1, age_2 et chom."
   ]
  },
  {
   "cell_type": "code",
   "execution_count": 33,
   "metadata": {},
   "outputs": [
    {
     "name": "stdout",
     "output_type": "stream",
     "text": [
      "0.0872306871892\n"
     ]
    }
   ],
   "source": [
    "test = df[df.year == 2017][pgroups + ['age_1', 'age_2', 'chom']]\n",
    "\n",
    "X0 = lll1[('age_1', 'age_2', 'chom')]\n",
    "\n",
    "#pour rappel\n",
    "print np.mean(cross_val_score(regr_2, X0, y1, cv=24))\n",
    "\n",
    "regr_2.fit(X0, y1)\n",
    "pred = regr_2.predict(test)"
   ]
  },
  {
   "cell_type": "code",
   "execution_count": 34,
   "metadata": {},
   "outputs": [
    {
     "data": {
      "text/plain": [
       "array([[  9.26766138,  19.20543826,  -1.69477891,  17.41274872,\n",
       "         37.53853633,   0.        ],\n",
       "       [  9.26766138,  19.20543826,  -1.69477891,  17.41274872,\n",
       "         37.53853633,   0.        ],\n",
       "       [  9.26766138,  19.20543826,  -1.69477891,  17.41274872,\n",
       "         37.53853633,   0.        ],\n",
       "       ..., \n",
       "       [ 13.40463059,  30.04211095,  -6.28874209,  15.67069067,\n",
       "         31.49937576,   0.        ],\n",
       "       [  6.76609636,   8.84408793,  -0.10122607,  18.51218347,\n",
       "         45.62191379,   0.        ],\n",
       "       [  6.76609636,   8.84408793,  -0.10122607,  18.51218347,\n",
       "         45.62191379,   0.        ]])"
      ]
     },
     "execution_count": 34,
     "metadata": {},
     "output_type": "execute_result"
    }
   ],
   "source": [
    "pred\n",
    "#oublions le fait que autre se voit attribués des scores négatifs..."
   ]
  },
  {
   "cell_type": "code",
   "execution_count": 37,
   "metadata": {
    "collapsed": true
   },
   "outputs": [],
   "source": [
    "#Et essayons de voir ce que ça veut dire en termes de groupes gagnants\n",
    "\n",
    "#!!! assuming only one winner for each line. otherwise argmax pas une bonne idée\n",
    "\n",
    "#on change l'ordre de groups pour s'adapter à la façon dont les colonnes sont ordonnées dans la frame et donc l'ordre\n",
    "#des scores dans la prédiction.\n",
    "groups2 = ['C', 'D', 'ED', 'EG', 'G', 'autre']\n",
    "lgroups2 = ['l_%s' % g for g in groups2]\n",
    "winners = [lgroups2[np.argmax(l)] for l in pred]"
   ]
  },
  {
   "cell_type": "code",
   "execution_count": 38,
   "metadata": {},
   "outputs": [
    {
     "data": {
      "text/plain": [
       "Counter({'l_D': 20, 'l_G': 538})"
      ]
     },
     "execution_count": 38,
     "metadata": {},
     "output_type": "execute_result"
    }
   ],
   "source": [
    "Counter(winners)"
   ]
  },
  {
   "cell_type": "code",
   "execution_count": null,
   "metadata": {
    "collapsed": true
   },
   "outputs": [],
   "source": [
    "#Super donc c'est une prédiction très peu réaliste."
   ]
  },
  {
   "cell_type": "code",
   "execution_count": null,
   "metadata": {
    "collapsed": true
   },
   "outputs": [],
   "source": []
  }
 ],
 "metadata": {
  "kernelspec": {
   "display_name": "Python [conda root]",
   "language": "python",
   "name": "conda-root-py"
  },
  "language_info": {
   "codemirror_mode": {
    "name": "ipython",
    "version": 2
   },
   "file_extension": ".py",
   "mimetype": "text/x-python",
   "name": "python",
   "nbconvert_exporter": "python",
   "pygments_lexer": "ipython2",
   "version": "2.7.12"
  }
 },
 "nbformat": 4,
 "nbformat_minor": 1
}
